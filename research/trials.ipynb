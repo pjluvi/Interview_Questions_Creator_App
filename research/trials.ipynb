{
 "cells": [
  {
   "cell_type": "code",
   "execution_count": 1,
   "metadata": {},
   "outputs": [
    {
     "name": "stdout",
     "output_type": "stream",
     "text": [
      "OK\n"
     ]
    }
   ],
   "source": [
    "print(\"OK\")"
   ]
  },
  {
   "cell_type": "code",
   "execution_count": 2,
   "metadata": {},
   "outputs": [],
   "source": [
    "import os\n",
    "from dotenv import load_dotenv"
   ]
  },
  {
   "cell_type": "code",
   "execution_count": 6,
   "metadata": {},
   "outputs": [],
   "source": [
    "load_dotenv()\n",
    "GOOGLE_API_KEY = os.getenv(\"GOOGLE_API_KEY\")"
   ]
  },
  {
   "cell_type": "code",
   "execution_count": 7,
   "metadata": {},
   "outputs": [],
   "source": [
    "os.environ[\"GOOGLE_API_KEY\"] = GOOGLE_API_KEY"
   ]
  },
  {
   "cell_type": "code",
   "execution_count": 8,
   "metadata": {},
   "outputs": [],
   "source": [
    "from langchain.document_loaders import PyPDFLoader"
   ]
  },
  {
   "cell_type": "code",
   "execution_count": 9,
   "metadata": {},
   "outputs": [
    {
     "data": {
      "text/plain": [
       "'d:\\\\AI\\\\Project\\\\Interview_Questions_Creator_App\\\\research'"
      ]
     },
     "execution_count": 9,
     "metadata": {},
     "output_type": "execute_result"
    }
   ],
   "source": [
    "\n",
    "%pwd"
   ]
  },
  {
   "cell_type": "code",
   "execution_count": 10,
   "metadata": {},
   "outputs": [
    {
     "name": "stdout",
     "output_type": "stream",
     "text": [
      "d:\\AI\\Project\\Interview_Questions_Creator_App\n"
     ]
    }
   ],
   "source": [
    "%cd .."
   ]
  },
  {
   "cell_type": "code",
   "execution_count": 11,
   "metadata": {},
   "outputs": [
    {
     "data": {
      "text/plain": [
       "'d:\\\\AI\\\\Project\\\\Interview_Questions_Creator_App'"
      ]
     },
     "execution_count": 11,
     "metadata": {},
     "output_type": "execute_result"
    }
   ],
   "source": [
    "%pwd"
   ]
  },
  {
   "cell_type": "code",
   "execution_count": 79,
   "metadata": {},
   "outputs": [],
   "source": [
    "file_path = \"data/electric_vehicles.pdf\"\n",
    "loader = PyPDFLoader(file_path)\n",
    "data = loader.load()"
   ]
  },
  {
   "cell_type": "code",
   "execution_count": 80,
   "metadata": {},
   "outputs": [
    {
     "data": {
      "text/plain": [
       "[Document(metadata={'source': 'data/electric_vehicles.pdf', 'page': 0}, page_content=' \\n \\n \\n \\n \\n \\n \\n \\n \\n \\n \\n \\n \\n \\n \\n \\n \\n   \\n \\n \\n \\n \\n \\n \\n \\n \\n \\n \\n \\n \\n  \\n \\n \\n \\n \\n \\n \\n Electric Vehicle \\nBasics \\nElectric vehicles (EVs) use electricity \\nas their primary fuel or to improve the effciency of conventional vehicle designs. EVs include all-electric vehicles, also referred to as battery electric vehicles (BEVs), and plug-in hybrid electric vehicles (PHEVs). In colloquial references, these vehicles are called electric cars, or simply EVs, even though some of these vehicles still use liquid fuels in conjunction with electricity. EVs are known for providing instant torque and a quiet driver experience. \\nOther types of electric-drive vehicles \\nnot covered here include hybrid electric vehicles, which are powered by a conventional engine and an electric motor that uses energy stored in a battery that is charged by regenerative braking, not by plugging in, and fuel cell electric vehicles, which use a propulsion system similar to electric vehicles, where energy stored as hydrogen is converted to electricity by the fuel cell. \\nAll-Electric Vehicles \\nAll-electric vehicles do not have \\nconventional engines but are driven solely by one or more electric motors powered by energy stored in batteries. The batteries are charged by plugging the vehicle into \\nNational Highway Travel Survey, U.S. Department \\nof Transportation, Federal Highway Administration, 2008, fhwa.dot.gov/policyinformation/pubs/pl08021/ fig4_5.cfm . \\nElectric vehicles are charged by plugging the vehicle into an electric power source. \\nPhoto courtesy of Forth. \\nan electric power source and can also be \\ncharged through regenerative braking. All-electric vehicles produce no tailpipe emissions, although there are “life cycle” emissions associated with the electricity production. \\nAll-electric vehicles typically have \\nshorter driving ranges per charge than conventional vehicles have per tank of gasoline. Most new BEVs are designed to travel between 110 and over 300 miles on a fully charged battery, depending on the model. For context, 90% of all U.S. household trips cover less than 100 miles.\\n1 An all-electric vehicle’s range \\nvaries according to driving conditions and driving habits. Extreme temperatures tend to reduce range because energy from the battery powers climate control systems in addition to powering the motor. Speeding, aggressive driving, and heavy loads can also reduce range. Regenerative Braking \\nRegenerative braking allows EVs to \\ncapture energy normally lost during braking by using the electric motor as a generator and storing that captured energy in the battery. \\nPlug-In Hybrid Electric Vehicles \\nPHEVs use batteries to power an electric \\nmotor and use another fuel, such as gasoline, to power a conventional engine. The batteries are typically charged by plugging the PHEV into an electric power source, although they can also be charged by the conventional engine and through regenerative braking. \\nPHEVs have an all-electric driving range \\nof about 15 to 60+ miles, depending on the model. As long as the battery is \\nEVs at a Glance \\nEVs run on electricity alone. They are powered by one or more \\nelectric motors and a battery. The battery is charged by plugging \\nthe vehicle into an electric power source and through regenerative braking. \\nPHEVs  can travel moderate distances on electricity alone. \\nThe battery can be charged by plugging into an electric power source, through regenerative braking, and by the engine. \\nPHEVs don’t have to be plugged in before driving. They can also be fueled solely with conventional fuel. However, they will not achieve maximum fuel economy or take full advantage of their all-electric capabilities without plugging in. 1 '),\n",
       " Document(metadata={'source': 'data/electric_vehicles.pdf', 'page': 1}, page_content='Getting started with an EV is easy \\nthanks to the charging “cordset” that comes with most vehicles. \\nPhoto by \\nErik Nelsen, NREL 64277. 2 fhwa.dot.gov/environment/alternative_fuel_corridors \\n \\n  \\n \\n \\n  charged, a PHEV can draw most of its \\npower from electricity for typical daily driving. The engine will then power on when the battery is mostly depleted, during rapid acceleration, at high speeds, or when intensive heating or air conditioning is required. \\nWhen running on battery power alone, \\nPHEVs produce no tailpipe emissions. Even when the conventional engine is running, PHEVs typically consume less gasoline and produce fewer emissions than similar conventional vehicles. \\nWhat EV Models Are \\nAvailable? \\nNearly all major vehicle manufacturers \\nhave EV models available, and some have committed to transitioning to selling only EVs by 2030. \\nMedium- and heavy-duty options are \\nalso available for fleet applications. See Considering an EV for fleet-specific considerations. \\nFor up-to-date information on available \\nmodels, use the Alternative Fuels Data Center (AFDC) Vehicle Search tool (afdc. energy.gov/tools) or the Find a Car tool on FuelEconomy.gov (fueleconomy.gov/ feg/findacar.shtml). \\nMore heavy-duty vehicle manufacturers \\nare now offering plug-in models for feets.\\n Photo by Dennis Schroeder, NREL \\n46574. \\nHow Do These Vehicles \\n“Fuel Up”? \\nCharging equipment provides electricity \\nto charge EV batteries. The charging unit communicates with the vehicle to ensure that it supplies an appropriate and safe flow of electricity. \\nThere are more than 140,000 publicly \\navailable charging outlets—and counting—across the country. Most currently available light-duty BEVs have ranges between 110 and over 300 miles. Technological advances such as larger batteries and growing access to charging are increasingly addressing “range anxiety,” or the fear of running out of charge. Learn more about trends in EV charging infrastructure ( afdc.energy.gov/ \\nfuels/electricity_infrastructure_trends. html). \\nIt may take as little as 30 minutes to fully charge an EV’s battery, but charging times vary based on the type or level of charging; the type of battery, its capacity, and how depleted it is; and the capacity of the vehicle’s internal charger (see Charging Options table). \\nCharging units can be installed in \\nresidential, fleet, workplace, and public settings. Most EVs come with a 110-volt “Level 1” cordset that can be plugged into a typical electrical outlet. For quicker charging, homeowners can install a 240-V “Level 2” unit on a dedicated electrical circuit. This can often be done with little or no required electrical upgrades, as most homes have 240-V service for appliances like dryers and electric ranges. A Level 2 unit can be portable or “hard wired” into a building and can be purchased for as little as $200. For more information on installing charging equipment, see Charging Infrastructure Procurement and Installation on the AFDC (afdc.energy. gov/fuels/electricity_infrastructure_ development.html ). \\nTo make long-distance travel more accessible, the Federal Highway Administration is establishing a network of alternative fueling and charging infrastructure along highway corridors. Designated EV corridors\\n2 supported \\nby DC fast charging stations are under development nationwide. To find public stations, use the Alternative Fueling Station Locator ( afdc.energy.gov/ \\nstations), which is available as an iPhone and Android app. \\nEquipment Types and Costs \\nCharging units are classified according to the rate at which they charge batteries. Two types—Level 1 and Level 2— provide AC power to the vehicle, with the \\nCharging Made Simple \\nMost EV owners charge at home or \\nat work because charging is more convenient and cost-effective than using public stations. But public equipment is also easy to use. Depending on the station, drivers might use a network card, credit card, phone, cash, or even just enter an account number. There are also free chargers where users can just plug in. \\nAn added beneft of going electric is \\nthat electricity prices are less volatile than gasoline and diesel prices, so drivers can more easily forecast their fueling expenses. See a comparison of all fuel prices over time on the AFDC Fuel Prices page (afdc.energy.gov/fuels/prices.html ). \\n2 '),\n",
       " Document(metadata={'source': 'data/electric_vehicles.pdf', 'page': 2}, page_content='All Electric \\nPlug-in Hybrid \\nHybrid \\nGasoline National Average Annual Emissions per Vehicle \\nLight-duty vehicles excluding fuel cell electric 0 3k 6k 9k 12k 15k \\nPounds of CO2 Equivalent \\nBased on assumptions updated in 2020 Electric emissions \\nGasoline emissions \\n \\n  \\n \\n \\n \\n \\n Charging Options \\nTypical Charging Time Cost for Equipment, Installation, \\nand Site Costs* \\nLevel 1 2–5 miles of range per hour \\nof charging $0 to $1,800 \\nLevel 2** 10–30 miles of range per hour of charging $800 to $33,000 \\nDC Fast \\nCharging** 100–200+ miles of range in 30 minutes $30,000 to over $120,000 \\n*Costs do not include the price of operation (network charges, electricity, utility \\ndemand charges). Factors affecting the price include equipment (charging equipment, electrical supplies), electrical installation (upgrading or adding electrical service, upgrading the electrical panel, conduit, and trenching), site improvements (adding pavement), activating a network, payment collection, labor, permitting, and taxes. \\n**Charging unit cost (Level 2 and DCFC) is proportional to the unit’s power rating. The \\nhigher its rating, the higher the cost. A Level 2 unit can range from 6.6 to 19.2 kW output. A DCFC unit can range from 25 to 350 kW. Charging varies by charging unit power, vehicle, and battery state of charge. \\nvehicle’s onboard equipment converting \\nAC to DC to charge the batteries. The other type—DC fast charging (DCFC)— provides DC power directly. \\nWireless or “inductive” charging \\nequipment uses an electromagnetic field to transfer electricity to an EV without a cord. Today, this technology is used primarily at higher power levels in heavy-duty applications like transit buses. \\nSome states and utilities offer financial \\nincentives for charging stations; see the AFDC Laws & Incentives page for more information ( afdc.energy.gov/laws). How Much Do the \\nVehicles Cost? \\nEVs are generally more expensive than \\ntheir conventional counterparts. However, lower fueling and maintenance costs can make them a competitive option. For example, electric drivetrains are more efficient, making BEVs (and PHEVs operating in electric mode) more than three times as efficient. Electricity is also less expensive than gasoline or diesel on an energy-equivalent basis. BEV drivers can save as much as $14,500 in fuel costs alone over 15 years (see table: Benefits \\nof Electric-Drive Vehicles). Federal and state tax credits and private and utility rebates may also be available to help offset the cost of EVs. For information on available vehicle incentives, see the AFDC Laws & Incentives page ( afdc.energy.gov/laws). \\nTo find fuel economy ratings and fuel/ vehicle cost comparisons among currently available models, visit FuelEconomy.gov . \\nHow Do Their Emissions \\nCompare With Those of Conventional Vehicles? \\nEVs typically produce fewer emissions \\nthan conventional vehicles. All-electric vehicles produce zero tailpipe emissions, and PHEVs produce no tailpipe emissions when in electric-only mode. \\nLife cycle emissions are generated when \\nfuel or electricity is produced, as well as during the manufacturing of the vehicle itself. The life cycle emissions of an EV largely depend on how the electricity is generated (and how much a PHEV’s engine is being used), and this varies by region. Generally, all-electric vehicles and PHEVs produce one-third to half the emissions of conventional vehicles, respectively, considering both air pollutants and greenhouse gases. Regions with high use of renewable energy will see stronger emissions benefits. See a comparison of emissions by state using the AFDC emissions tool at afdc.energy. gov/ev-emissions.html . \\nWhat About Safety and \\nMaintenance? \\nAll EVs undergo the same rigorous \\nsafety testing as conventional vehicles sold in the United States and must meet Federal Motor Vehicle Safety Standards (including those for batteries). For additional safety information, refer to the AFDC’s Maintenance and Safety of Hybrid and Plug-In Electric Vehicles page (afdc.energy.gov/vehicles/electric_ maintenance.html ). \\nBecause PHEVs have conventional engines, their maintenance requirements are similar to conventional vehicles. \\n3 '),\n",
       " Document(metadata={'source': 'data/electric_vehicles.pdf', 'page': 3}, page_content='PHEVs Beneÿts of \\nElectric-Drive \\nVehicles compared \\nto conventional vehicles \\nFuel Economy All-electric vehicles \\nMost achieve combined fuel \\neconomy ratings higher than \\n90 mpge .* \\nEmissions \\nReductions Produce no tailpipe emissions \\nwhen in electric-only mode. \\nGenerally, they produce less than \\nhalf the emissions . Produce no tailpipe \\nemissions . \\nGenerally, they produce one-third \\nthe emissions . \\nFuel Cost \\nSavings** In electric-only mode, PHEV electricity costs range about \\n3¢–10¢ per mile . \\nOn gasoline only, fuel costs are \\nabout 4¢–36¢ per mile . All-electric vehicles run on \\nelectricity only. Electricity costs are \\n2¢–6¢ per mile . \\nFueling Flexibility Can fuel at gas stations . \\nCan charge at: \\n• home • public charging stations • some workplaces Can charge at: \\n• home • public charging stations • some workplaces Most achieve fuel economy ratings \\nhigher than 100 mpge .* \\nElectricity is produced from varied, domestic sources: \\n \\n \\n \\n   \\n \\n \\n  \\n \\n Sources: AFDC (afdc.energy.gov), FuelEconomy.gov \\n* EVs are rated not in miles per gallon (mpg) but miles per gallon of gasoline \\nequivalent (mpge). Similar to mpg, mpge represents the number of miles the vehicle can travel using a quantity of fuel (or electricity) with the same energy content as a gallon of gasoline. \\n**Compare to 10¢–15¢ per mile for conventional gasoline- or diesel-powered sedans. \\nFor all EVs, the electrical system (battery, \\nmotor, and associated electronics) requires minimal scheduled maintenance. A manufacturer’s warranty of a battery typically covers 8 years or 100,000 miles, and the expected battery lifetime is 12 to 15 years under normal operating conditions and in moderate climates. Check with your manufacturer about vehicle and battery warranties. Brake systems on these vehicles typically last longer than conventional vehicles because regenerative braking reduces brake wear. \\nAll-electric vehicles lack conventional \\nengines and have far fewer moving parts and fewer fluids to change, so they typically require less maintenance than conventional vehicles or even PHEVs. Considering an EV \\nFleet managers should consider: \\n• Arranging for basic technician and \\ndriver training \\n• Conducting site planning for charging units, including setbacks, electrical service locations, potential service upgrade needs, and future upgrades \\n• Determining when and how the vehicles will charge (including working with utilities to understand time-of-use and demand charges), as well as managed charging \\n• Exploring private or utility incentives for equipment installation or power use • Evaluating equipment vendors and considering needs/options such as smart charging, cloud communications, vendor payment, and equipment owner -\\nship and maintenance \\n• Timing the purchase and installation of charging units with the delivery of vehicles (this can be especially slow/complicated for municipal organizations). \\nFor medium- and heavy-duty vehicles, there are additional considerations: \\n• Examining auxiliary loads (e.g., \\nheating/cooling, lights, power take-off/ hydraulics use), and optional auxiliary power units or heating, ventilating, and air-conditioning (HV AC) units powered by diesel or another fuel \\n• Determining the impacts of increased electricity consumption, especially when several vehicles need to be charged simultaneously at high charging rates \\n• Understanding original equipment manufacturer vehicle maintenance and support if issues arise. \\nFind additional information on EVs on the AFDC at afdc.energy.gov/vehicles/ \\nelectric.html . \\nFor more information, visit: \\nafdc.energy.gov \\nDOE/GO-102023-6050 • August 2023 \\n4 ')]"
      ]
     },
     "execution_count": 80,
     "metadata": {},
     "output_type": "execute_result"
    }
   ],
   "source": [
    "data"
   ]
  },
  {
   "cell_type": "code",
   "execution_count": 81,
   "metadata": {},
   "outputs": [
    {
     "data": {
      "text/plain": [
       "4"
      ]
     },
     "execution_count": 81,
     "metadata": {},
     "output_type": "execute_result"
    }
   ],
   "source": [
    "len(data)"
   ]
  },
  {
   "cell_type": "code",
   "execution_count": 82,
   "metadata": {},
   "outputs": [],
   "source": [
    "question_gen = \"\"\n",
    "\n",
    "for page in data:\n",
    "    question_gen += page.page_content"
   ]
  },
  {
   "cell_type": "code",
   "execution_count": 83,
   "metadata": {},
   "outputs": [
    {
     "data": {
      "text/plain": [
       "' \\n \\n \\n \\n \\n \\n \\n \\n \\n \\n \\n \\n \\n \\n \\n \\n \\n   \\n \\n \\n \\n \\n \\n \\n \\n \\n \\n \\n \\n \\n  \\n \\n \\n \\n \\n \\n \\n Electric Vehicle \\nBasics \\nElectric vehicles (EVs) use electricity \\nas their primary fuel or to improve the effciency of conventional vehicle designs. EVs include all-electric vehicles, also referred to as battery electric vehicles (BEVs), and plug-in hybrid electric vehicles (PHEVs). In colloquial references, these vehicles are called electric cars, or simply EVs, even though some of these vehicles still use liquid fuels in conjunction with electricity. EVs are known for providing instant torque and a quiet driver experience. \\nOther types of electric-drive vehicles \\nnot covered here include hybrid electric vehicles, which are powered by a conventional engine and an electric motor that uses energy stored in a battery that is charged by regenerative braking, not by plugging in, and fuel cell electric vehicles, which use a propulsion system similar to electric vehicles, where energy stored as hydrogen is converted to electricity by the fuel cell. \\nAll-Electric Vehicles \\nAll-electric vehicles do not have \\nconventional engines but are driven solely by one or more electric motors powered by energy stored in batteries. The batteries are charged by plugging the vehicle into \\nNational Highway Travel Survey, U.S. Department \\nof Transportation, Federal Highway Administration, 2008, fhwa.dot.gov/policyinformation/pubs/pl08021/ fig4_5.cfm . \\nElectric vehicles are charged by plugging the vehicle into an electric power source. \\nPhoto courtesy of Forth. \\nan electric power source and can also be \\ncharged through regenerative braking. All-electric vehicles produce no tailpipe emissions, although there are “life cycle” emissions associated with the electricity production. \\nAll-electric vehicles typically have \\nshorter driving ranges per charge than conventional vehicles have per tank of gasoline. Most new BEVs are designed to travel between 110 and over 300 miles on a fully charged battery, depending on the model. For context, 90% of all U.S. household trips cover less than 100 miles.\\n1 An all-electric vehicle’s range \\nvaries according to driving conditions and driving habits. Extreme temperatures tend to reduce range because energy from the battery powers climate control systems in addition to powering the motor. Speeding, aggressive driving, and heavy loads can also reduce range. Regenerative Braking \\nRegenerative braking allows EVs to \\ncapture energy normally lost during braking by using the electric motor as a generator and storing that captured energy in the battery. \\nPlug-In Hybrid Electric Vehicles \\nPHEVs use batteries to power an electric \\nmotor and use another fuel, such as gasoline, to power a conventional engine. The batteries are typically charged by plugging the PHEV into an electric power source, although they can also be charged by the conventional engine and through regenerative braking. \\nPHEVs have an all-electric driving range \\nof about 15 to 60+ miles, depending on the model. As long as the battery is \\nEVs at a Glance \\nEVs run on electricity alone. They are powered by one or more \\nelectric motors and a battery. The battery is charged by plugging \\nthe vehicle into an electric power source and through regenerative braking. \\nPHEVs  can travel moderate distances on electricity alone. \\nThe battery can be charged by plugging into an electric power source, through regenerative braking, and by the engine. \\nPHEVs don’t have to be plugged in before driving. They can also be fueled solely with conventional fuel. However, they will not achieve maximum fuel economy or take full advantage of their all-electric capabilities without plugging in. 1 Getting started with an EV is easy \\nthanks to the charging “cordset” that comes with most vehicles. \\nPhoto by \\nErik Nelsen, NREL 64277. 2 fhwa.dot.gov/environment/alternative_fuel_corridors \\n \\n  \\n \\n \\n  charged, a PHEV can draw most of its \\npower from electricity for typical daily driving. The engine will then power on when the battery is mostly depleted, during rapid acceleration, at high speeds, or when intensive heating or air conditioning is required. \\nWhen running on battery power alone, \\nPHEVs produce no tailpipe emissions. Even when the conventional engine is running, PHEVs typically consume less gasoline and produce fewer emissions than similar conventional vehicles. \\nWhat EV Models Are \\nAvailable? \\nNearly all major vehicle manufacturers \\nhave EV models available, and some have committed to transitioning to selling only EVs by 2030. \\nMedium- and heavy-duty options are \\nalso available for fleet applications. See Considering an EV for fleet-specific considerations. \\nFor up-to-date information on available \\nmodels, use the Alternative Fuels Data Center (AFDC) Vehicle Search tool (afdc. energy.gov/tools) or the Find a Car tool on FuelEconomy.gov (fueleconomy.gov/ feg/findacar.shtml). \\nMore heavy-duty vehicle manufacturers \\nare now offering plug-in models for feets.\\n Photo by Dennis Schroeder, NREL \\n46574. \\nHow Do These Vehicles \\n“Fuel Up”? \\nCharging equipment provides electricity \\nto charge EV batteries. The charging unit communicates with the vehicle to ensure that it supplies an appropriate and safe flow of electricity. \\nThere are more than 140,000 publicly \\navailable charging outlets—and counting—across the country. Most currently available light-duty BEVs have ranges between 110 and over 300 miles. Technological advances such as larger batteries and growing access to charging are increasingly addressing “range anxiety,” or the fear of running out of charge. Learn more about trends in EV charging infrastructure ( afdc.energy.gov/ \\nfuels/electricity_infrastructure_trends. html). \\nIt may take as little as 30 minutes to fully charge an EV’s battery, but charging times vary based on the type or level of charging; the type of battery, its capacity, and how depleted it is; and the capacity of the vehicle’s internal charger (see Charging Options table). \\nCharging units can be installed in \\nresidential, fleet, workplace, and public settings. Most EVs come with a 110-volt “Level 1” cordset that can be plugged into a typical electrical outlet. For quicker charging, homeowners can install a 240-V “Level 2” unit on a dedicated electrical circuit. This can often be done with little or no required electrical upgrades, as most homes have 240-V service for appliances like dryers and electric ranges. A Level 2 unit can be portable or “hard wired” into a building and can be purchased for as little as $200. For more information on installing charging equipment, see Charging Infrastructure Procurement and Installation on the AFDC (afdc.energy. gov/fuels/electricity_infrastructure_ development.html ). \\nTo make long-distance travel more accessible, the Federal Highway Administration is establishing a network of alternative fueling and charging infrastructure along highway corridors. Designated EV corridors\\n2 supported \\nby DC fast charging stations are under development nationwide. To find public stations, use the Alternative Fueling Station Locator ( afdc.energy.gov/ \\nstations), which is available as an iPhone and Android app. \\nEquipment Types and Costs \\nCharging units are classified according to the rate at which they charge batteries. Two types—Level 1 and Level 2— provide AC power to the vehicle, with the \\nCharging Made Simple \\nMost EV owners charge at home or \\nat work because charging is more convenient and cost-effective than using public stations. But public equipment is also easy to use. Depending on the station, drivers might use a network card, credit card, phone, cash, or even just enter an account number. There are also free chargers where users can just plug in. \\nAn added beneft of going electric is \\nthat electricity prices are less volatile than gasoline and diesel prices, so drivers can more easily forecast their fueling expenses. See a comparison of all fuel prices over time on the AFDC Fuel Prices page (afdc.energy.gov/fuels/prices.html ). \\n2 All Electric \\nPlug-in Hybrid \\nHybrid \\nGasoline National Average Annual Emissions per Vehicle \\nLight-duty vehicles excluding fuel cell electric 0 3k 6k 9k 12k 15k \\nPounds of CO2 Equivalent \\nBased on assumptions updated in 2020 Electric emissions \\nGasoline emissions \\n \\n  \\n \\n \\n \\n \\n Charging Options \\nTypical Charging Time Cost for Equipment, Installation, \\nand Site Costs* \\nLevel 1 2–5 miles of range per hour \\nof charging $0 to $1,800 \\nLevel 2** 10–30 miles of range per hour of charging $800 to $33,000 \\nDC Fast \\nCharging** 100–200+ miles of range in 30 minutes $30,000 to over $120,000 \\n*Costs do not include the price of operation (network charges, electricity, utility \\ndemand charges). Factors affecting the price include equipment (charging equipment, electrical supplies), electrical installation (upgrading or adding electrical service, upgrading the electrical panel, conduit, and trenching), site improvements (adding pavement), activating a network, payment collection, labor, permitting, and taxes. \\n**Charging unit cost (Level 2 and DCFC) is proportional to the unit’s power rating. The \\nhigher its rating, the higher the cost. A Level 2 unit can range from 6.6 to 19.2 kW output. A DCFC unit can range from 25 to 350 kW. Charging varies by charging unit power, vehicle, and battery state of charge. \\nvehicle’s onboard equipment converting \\nAC to DC to charge the batteries. The other type—DC fast charging (DCFC)— provides DC power directly. \\nWireless or “inductive” charging \\nequipment uses an electromagnetic field to transfer electricity to an EV without a cord. Today, this technology is used primarily at higher power levels in heavy-duty applications like transit buses. \\nSome states and utilities offer financial \\nincentives for charging stations; see the AFDC Laws & Incentives page for more information ( afdc.energy.gov/laws). How Much Do the \\nVehicles Cost? \\nEVs are generally more expensive than \\ntheir conventional counterparts. However, lower fueling and maintenance costs can make them a competitive option. For example, electric drivetrains are more efficient, making BEVs (and PHEVs operating in electric mode) more than three times as efficient. Electricity is also less expensive than gasoline or diesel on an energy-equivalent basis. BEV drivers can save as much as $14,500 in fuel costs alone over 15 years (see table: Benefits \\nof Electric-Drive Vehicles). Federal and state tax credits and private and utility rebates may also be available to help offset the cost of EVs. For information on available vehicle incentives, see the AFDC Laws & Incentives page ( afdc.energy.gov/laws). \\nTo find fuel economy ratings and fuel/ vehicle cost comparisons among currently available models, visit FuelEconomy.gov . \\nHow Do Their Emissions \\nCompare With Those of Conventional Vehicles? \\nEVs typically produce fewer emissions \\nthan conventional vehicles. All-electric vehicles produce zero tailpipe emissions, and PHEVs produce no tailpipe emissions when in electric-only mode. \\nLife cycle emissions are generated when \\nfuel or electricity is produced, as well as during the manufacturing of the vehicle itself. The life cycle emissions of an EV largely depend on how the electricity is generated (and how much a PHEV’s engine is being used), and this varies by region. Generally, all-electric vehicles and PHEVs produce one-third to half the emissions of conventional vehicles, respectively, considering both air pollutants and greenhouse gases. Regions with high use of renewable energy will see stronger emissions benefits. See a comparison of emissions by state using the AFDC emissions tool at afdc.energy. gov/ev-emissions.html . \\nWhat About Safety and \\nMaintenance? \\nAll EVs undergo the same rigorous \\nsafety testing as conventional vehicles sold in the United States and must meet Federal Motor Vehicle Safety Standards (including those for batteries). For additional safety information, refer to the AFDC’s Maintenance and Safety of Hybrid and Plug-In Electric Vehicles page (afdc.energy.gov/vehicles/electric_ maintenance.html ). \\nBecause PHEVs have conventional engines, their maintenance requirements are similar to conventional vehicles. \\n3 PHEVs Beneÿts of \\nElectric-Drive \\nVehicles compared \\nto conventional vehicles \\nFuel Economy All-electric vehicles \\nMost achieve combined fuel \\neconomy ratings higher than \\n90 mpge .* \\nEmissions \\nReductions Produce no tailpipe emissions \\nwhen in electric-only mode. \\nGenerally, they produce less than \\nhalf the emissions . Produce no tailpipe \\nemissions . \\nGenerally, they produce one-third \\nthe emissions . \\nFuel Cost \\nSavings** In electric-only mode, PHEV electricity costs range about \\n3¢–10¢ per mile . \\nOn gasoline only, fuel costs are \\nabout 4¢–36¢ per mile . All-electric vehicles run on \\nelectricity only. Electricity costs are \\n2¢–6¢ per mile . \\nFueling Flexibility Can fuel at gas stations . \\nCan charge at: \\n• home • public charging stations • some workplaces Can charge at: \\n• home • public charging stations • some workplaces Most achieve fuel economy ratings \\nhigher than 100 mpge .* \\nElectricity is produced from varied, domestic sources: \\n \\n \\n \\n   \\n \\n \\n  \\n \\n Sources: AFDC (afdc.energy.gov), FuelEconomy.gov \\n* EVs are rated not in miles per gallon (mpg) but miles per gallon of gasoline \\nequivalent (mpge). Similar to mpg, mpge represents the number of miles the vehicle can travel using a quantity of fuel (or electricity) with the same energy content as a gallon of gasoline. \\n**Compare to 10¢–15¢ per mile for conventional gasoline- or diesel-powered sedans. \\nFor all EVs, the electrical system (battery, \\nmotor, and associated electronics) requires minimal scheduled maintenance. A manufacturer’s warranty of a battery typically covers 8 years or 100,000 miles, and the expected battery lifetime is 12 to 15 years under normal operating conditions and in moderate climates. Check with your manufacturer about vehicle and battery warranties. Brake systems on these vehicles typically last longer than conventional vehicles because regenerative braking reduces brake wear. \\nAll-electric vehicles lack conventional \\nengines and have far fewer moving parts and fewer fluids to change, so they typically require less maintenance than conventional vehicles or even PHEVs. Considering an EV \\nFleet managers should consider: \\n• Arranging for basic technician and \\ndriver training \\n• Conducting site planning for charging units, including setbacks, electrical service locations, potential service upgrade needs, and future upgrades \\n• Determining when and how the vehicles will charge (including working with utilities to understand time-of-use and demand charges), as well as managed charging \\n• Exploring private or utility incentives for equipment installation or power use • Evaluating equipment vendors and considering needs/options such as smart charging, cloud communications, vendor payment, and equipment owner -\\nship and maintenance \\n• Timing the purchase and installation of charging units with the delivery of vehicles (this can be especially slow/complicated for municipal organizations). \\nFor medium- and heavy-duty vehicles, there are additional considerations: \\n• Examining auxiliary loads (e.g., \\nheating/cooling, lights, power take-off/ hydraulics use), and optional auxiliary power units or heating, ventilating, and air-conditioning (HV AC) units powered by diesel or another fuel \\n• Determining the impacts of increased electricity consumption, especially when several vehicles need to be charged simultaneously at high charging rates \\n• Understanding original equipment manufacturer vehicle maintenance and support if issues arise. \\nFind additional information on EVs on the AFDC at afdc.energy.gov/vehicles/ \\nelectric.html . \\nFor more information, visit: \\nafdc.energy.gov \\nDOE/GO-102023-6050 • August 2023 \\n4 '"
      ]
     },
     "execution_count": 83,
     "metadata": {},
     "output_type": "execute_result"
    }
   ],
   "source": [
    "question_gen"
   ]
  },
  {
   "cell_type": "code",
   "execution_count": 84,
   "metadata": {},
   "outputs": [],
   "source": [
    "from langchain.text_splitter import TokenTextSplitter"
   ]
  },
  {
   "cell_type": "code",
   "execution_count": 85,
   "metadata": {},
   "outputs": [],
   "source": [
    "splitter_ques_gen = TokenTextSplitter(\n",
    "    model_name= \"gpt-3.5-turbo\",\n",
    "    chunk_size= 10000,\n",
    "    chunk_overlap = 200\n",
    ")"
   ]
  },
  {
   "cell_type": "code",
   "execution_count": 86,
   "metadata": {},
   "outputs": [],
   "source": [
    "chunk_ques_gen = splitter_ques_gen.split_text(question_gen)"
   ]
  },
  {
   "cell_type": "code",
   "execution_count": 87,
   "metadata": {},
   "outputs": [
    {
     "data": {
      "text/plain": [
       "1"
      ]
     },
     "execution_count": 87,
     "metadata": {},
     "output_type": "execute_result"
    }
   ],
   "source": [
    "len(chunk_ques_gen)"
   ]
  },
  {
   "cell_type": "code",
   "execution_count": 88,
   "metadata": {},
   "outputs": [
    {
     "data": {
      "text/plain": [
       "[' \\n \\n \\n \\n \\n \\n \\n \\n \\n \\n \\n \\n \\n \\n \\n \\n \\n   \\n \\n \\n \\n \\n \\n \\n \\n \\n \\n \\n \\n \\n  \\n \\n \\n \\n \\n \\n \\n Electric Vehicle \\nBasics \\nElectric vehicles (EVs) use electricity \\nas their primary fuel or to improve the effciency of conventional vehicle designs. EVs include all-electric vehicles, also referred to as battery electric vehicles (BEVs), and plug-in hybrid electric vehicles (PHEVs). In colloquial references, these vehicles are called electric cars, or simply EVs, even though some of these vehicles still use liquid fuels in conjunction with electricity. EVs are known for providing instant torque and a quiet driver experience. \\nOther types of electric-drive vehicles \\nnot covered here include hybrid electric vehicles, which are powered by a conventional engine and an electric motor that uses energy stored in a battery that is charged by regenerative braking, not by plugging in, and fuel cell electric vehicles, which use a propulsion system similar to electric vehicles, where energy stored as hydrogen is converted to electricity by the fuel cell. \\nAll-Electric Vehicles \\nAll-electric vehicles do not have \\nconventional engines but are driven solely by one or more electric motors powered by energy stored in batteries. The batteries are charged by plugging the vehicle into \\nNational Highway Travel Survey, U.S. Department \\nof Transportation, Federal Highway Administration, 2008, fhwa.dot.gov/policyinformation/pubs/pl08021/ fig4_5.cfm . \\nElectric vehicles are charged by plugging the vehicle into an electric power source. \\nPhoto courtesy of Forth. \\nan electric power source and can also be \\ncharged through regenerative braking. All-electric vehicles produce no tailpipe emissions, although there are “life cycle” emissions associated with the electricity production. \\nAll-electric vehicles typically have \\nshorter driving ranges per charge than conventional vehicles have per tank of gasoline. Most new BEVs are designed to travel between 110 and over 300 miles on a fully charged battery, depending on the model. For context, 90% of all U.S. household trips cover less than 100 miles.\\n1 An all-electric vehicle’s range \\nvaries according to driving conditions and driving habits. Extreme temperatures tend to reduce range because energy from the battery powers climate control systems in addition to powering the motor. Speeding, aggressive driving, and heavy loads can also reduce range. Regenerative Braking \\nRegenerative braking allows EVs to \\ncapture energy normally lost during braking by using the electric motor as a generator and storing that captured energy in the battery. \\nPlug-In Hybrid Electric Vehicles \\nPHEVs use batteries to power an electric \\nmotor and use another fuel, such as gasoline, to power a conventional engine. The batteries are typically charged by plugging the PHEV into an electric power source, although they can also be charged by the conventional engine and through regenerative braking. \\nPHEVs have an all-electric driving range \\nof about 15 to 60+ miles, depending on the model. As long as the battery is \\nEVs at a Glance \\nEVs run on electricity alone. They are powered by one or more \\nelectric motors and a battery. The battery is charged by plugging \\nthe vehicle into an electric power source and through regenerative braking. \\nPHEVs  can travel moderate distances on electricity alone. \\nThe battery can be charged by plugging into an electric power source, through regenerative braking, and by the engine. \\nPHEVs don’t have to be plugged in before driving. They can also be fueled solely with conventional fuel. However, they will not achieve maximum fuel economy or take full advantage of their all-electric capabilities without plugging in. 1 Getting started with an EV is easy \\nthanks to the charging “cordset” that comes with most vehicles. \\nPhoto by \\nErik Nelsen, NREL 64277. 2 fhwa.dot.gov/environment/alternative_fuel_corridors \\n \\n  \\n \\n \\n  charged, a PHEV can draw most of its \\npower from electricity for typical daily driving. The engine will then power on when the battery is mostly depleted, during rapid acceleration, at high speeds, or when intensive heating or air conditioning is required. \\nWhen running on battery power alone, \\nPHEVs produce no tailpipe emissions. Even when the conventional engine is running, PHEVs typically consume less gasoline and produce fewer emissions than similar conventional vehicles. \\nWhat EV Models Are \\nAvailable? \\nNearly all major vehicle manufacturers \\nhave EV models available, and some have committed to transitioning to selling only EVs by 2030. \\nMedium- and heavy-duty options are \\nalso available for fleet applications. See Considering an EV for fleet-specific considerations. \\nFor up-to-date information on available \\nmodels, use the Alternative Fuels Data Center (AFDC) Vehicle Search tool (afdc. energy.gov/tools) or the Find a Car tool on FuelEconomy.gov (fueleconomy.gov/ feg/findacar.shtml). \\nMore heavy-duty vehicle manufacturers \\nare now offering plug-in models for feets.\\n Photo by Dennis Schroeder, NREL \\n46574. \\nHow Do These Vehicles \\n“Fuel Up”? \\nCharging equipment provides electricity \\nto charge EV batteries. The charging unit communicates with the vehicle to ensure that it supplies an appropriate and safe flow of electricity. \\nThere are more than 140,000 publicly \\navailable charging outlets—and counting—across the country. Most currently available light-duty BEVs have ranges between 110 and over 300 miles. Technological advances such as larger batteries and growing access to charging are increasingly addressing “range anxiety,” or the fear of running out of charge. Learn more about trends in EV charging infrastructure ( afdc.energy.gov/ \\nfuels/electricity_infrastructure_trends. html). \\nIt may take as little as 30 minutes to fully charge an EV’s battery, but charging times vary based on the type or level of charging; the type of battery, its capacity, and how depleted it is; and the capacity of the vehicle’s internal charger (see Charging Options table). \\nCharging units can be installed in \\nresidential, fleet, workplace, and public settings. Most EVs come with a 110-volt “Level 1” cordset that can be plugged into a typical electrical outlet. For quicker charging, homeowners can install a 240-V “Level 2” unit on a dedicated electrical circuit. This can often be done with little or no required electrical upgrades, as most homes have 240-V service for appliances like dryers and electric ranges. A Level 2 unit can be portable or “hard wired” into a building and can be purchased for as little as $200. For more information on installing charging equipment, see Charging Infrastructure Procurement and Installation on the AFDC (afdc.energy. gov/fuels/electricity_infrastructure_ development.html ). \\nTo make long-distance travel more accessible, the Federal Highway Administration is establishing a network of alternative fueling and charging infrastructure along highway corridors. Designated EV corridors\\n2 supported \\nby DC fast charging stations are under development nationwide. To find public stations, use the Alternative Fueling Station Locator ( afdc.energy.gov/ \\nstations), which is available as an iPhone and Android app. \\nEquipment Types and Costs \\nCharging units are classified according to the rate at which they charge batteries. Two types—Level 1 and Level 2— provide AC power to the vehicle, with the \\nCharging Made Simple \\nMost EV owners charge at home or \\nat work because charging is more convenient and cost-effective than using public stations. But public equipment is also easy to use. Depending on the station, drivers might use a network card, credit card, phone, cash, or even just enter an account number. There are also free chargers where users can just plug in. \\nAn added beneft of going electric is \\nthat electricity prices are less volatile than gasoline and diesel prices, so drivers can more easily forecast their fueling expenses. See a comparison of all fuel prices over time on the AFDC Fuel Prices page (afdc.energy.gov/fuels/prices.html ). \\n2 All Electric \\nPlug-in Hybrid \\nHybrid \\nGasoline National Average Annual Emissions per Vehicle \\nLight-duty vehicles excluding fuel cell electric 0 3k 6k 9k 12k 15k \\nPounds of CO2 Equivalent \\nBased on assumptions updated in 2020 Electric emissions \\nGasoline emissions \\n \\n  \\n \\n \\n \\n \\n Charging Options \\nTypical Charging Time Cost for Equipment, Installation, \\nand Site Costs* \\nLevel 1 2–5 miles of range per hour \\nof charging $0 to $1,800 \\nLevel 2** 10–30 miles of range per hour of charging $800 to $33,000 \\nDC Fast \\nCharging** 100–200+ miles of range in 30 minutes $30,000 to over $120,000 \\n*Costs do not include the price of operation (network charges, electricity, utility \\ndemand charges). Factors affecting the price include equipment (charging equipment, electrical supplies), electrical installation (upgrading or adding electrical service, upgrading the electrical panel, conduit, and trenching), site improvements (adding pavement), activating a network, payment collection, labor, permitting, and taxes. \\n**Charging unit cost (Level 2 and DCFC) is proportional to the unit’s power rating. The \\nhigher its rating, the higher the cost. A Level 2 unit can range from 6.6 to 19.2 kW output. A DCFC unit can range from 25 to 350 kW. Charging varies by charging unit power, vehicle, and battery state of charge. \\nvehicle’s onboard equipment converting \\nAC to DC to charge the batteries. The other type—DC fast charging (DCFC)— provides DC power directly. \\nWireless or “inductive” charging \\nequipment uses an electromagnetic field to transfer electricity to an EV without a cord. Today, this technology is used primarily at higher power levels in heavy-duty applications like transit buses. \\nSome states and utilities offer financial \\nincentives for charging stations; see the AFDC Laws & Incentives page for more information ( afdc.energy.gov/laws). How Much Do the \\nVehicles Cost? \\nEVs are generally more expensive than \\ntheir conventional counterparts. However, lower fueling and maintenance costs can make them a competitive option. For example, electric drivetrains are more efficient, making BEVs (and PHEVs operating in electric mode) more than three times as efficient. Electricity is also less expensive than gasoline or diesel on an energy-equivalent basis. BEV drivers can save as much as $14,500 in fuel costs alone over 15 years (see table: Benefits \\nof Electric-Drive Vehicles). Federal and state tax credits and private and utility rebates may also be available to help offset the cost of EVs. For information on available vehicle incentives, see the AFDC Laws & Incentives page ( afdc.energy.gov/laws). \\nTo find fuel economy ratings and fuel/ vehicle cost comparisons among currently available models, visit FuelEconomy.gov . \\nHow Do Their Emissions \\nCompare With Those of Conventional Vehicles? \\nEVs typically produce fewer emissions \\nthan conventional vehicles. All-electric vehicles produce zero tailpipe emissions, and PHEVs produce no tailpipe emissions when in electric-only mode. \\nLife cycle emissions are generated when \\nfuel or electricity is produced, as well as during the manufacturing of the vehicle itself. The life cycle emissions of an EV largely depend on how the electricity is generated (and how much a PHEV’s engine is being used), and this varies by region. Generally, all-electric vehicles and PHEVs produce one-third to half the emissions of conventional vehicles, respectively, considering both air pollutants and greenhouse gases. Regions with high use of renewable energy will see stronger emissions benefits. See a comparison of emissions by state using the AFDC emissions tool at afdc.energy. gov/ev-emissions.html . \\nWhat About Safety and \\nMaintenance? \\nAll EVs undergo the same rigorous \\nsafety testing as conventional vehicles sold in the United States and must meet Federal Motor Vehicle Safety Standards (including those for batteries). For additional safety information, refer to the AFDC’s Maintenance and Safety of Hybrid and Plug-In Electric Vehicles page (afdc.energy.gov/vehicles/electric_ maintenance.html ). \\nBecause PHEVs have conventional engines, their maintenance requirements are similar to conventional vehicles. \\n3 PHEVs Beneÿts of \\nElectric-Drive \\nVehicles compared \\nto conventional vehicles \\nFuel Economy All-electric vehicles \\nMost achieve combined fuel \\neconomy ratings higher than \\n90 mpge .* \\nEmissions \\nReductions Produce no tailpipe emissions \\nwhen in electric-only mode. \\nGenerally, they produce less than \\nhalf the emissions . Produce no tailpipe \\nemissions . \\nGenerally, they produce one-third \\nthe emissions . \\nFuel Cost \\nSavings** In electric-only mode, PHEV electricity costs range about \\n3¢–10¢ per mile . \\nOn gasoline only, fuel costs are \\nabout 4¢–36¢ per mile . All-electric vehicles run on \\nelectricity only. Electricity costs are \\n2¢–6¢ per mile . \\nFueling Flexibility Can fuel at gas stations . \\nCan charge at: \\n• home • public charging stations • some workplaces Can charge at: \\n• home • public charging stations • some workplaces Most achieve fuel economy ratings \\nhigher than 100 mpge .* \\nElectricity is produced from varied, domestic sources: \\n \\n \\n \\n   \\n \\n \\n  \\n \\n Sources: AFDC (afdc.energy.gov), FuelEconomy.gov \\n* EVs are rated not in miles per gallon (mpg) but miles per gallon of gasoline \\nequivalent (mpge). Similar to mpg, mpge represents the number of miles the vehicle can travel using a quantity of fuel (or electricity) with the same energy content as a gallon of gasoline. \\n**Compare to 10¢–15¢ per mile for conventional gasoline- or diesel-powered sedans. \\nFor all EVs, the electrical system (battery, \\nmotor, and associated electronics) requires minimal scheduled maintenance. A manufacturer’s warranty of a battery typically covers 8 years or 100,000 miles, and the expected battery lifetime is 12 to 15 years under normal operating conditions and in moderate climates. Check with your manufacturer about vehicle and battery warranties. Brake systems on these vehicles typically last longer than conventional vehicles because regenerative braking reduces brake wear. \\nAll-electric vehicles lack conventional \\nengines and have far fewer moving parts and fewer fluids to change, so they typically require less maintenance than conventional vehicles or even PHEVs. Considering an EV \\nFleet managers should consider: \\n• Arranging for basic technician and \\ndriver training \\n• Conducting site planning for charging units, including setbacks, electrical service locations, potential service upgrade needs, and future upgrades \\n• Determining when and how the vehicles will charge (including working with utilities to understand time-of-use and demand charges), as well as managed charging \\n• Exploring private or utility incentives for equipment installation or power use • Evaluating equipment vendors and considering needs/options such as smart charging, cloud communications, vendor payment, and equipment owner -\\nship and maintenance \\n• Timing the purchase and installation of charging units with the delivery of vehicles (this can be especially slow/complicated for municipal organizations). \\nFor medium- and heavy-duty vehicles, there are additional considerations: \\n• Examining auxiliary loads (e.g., \\nheating/cooling, lights, power take-off/ hydraulics use), and optional auxiliary power units or heating, ventilating, and air-conditioning (HV AC) units powered by diesel or another fuel \\n• Determining the impacts of increased electricity consumption, especially when several vehicles need to be charged simultaneously at high charging rates \\n• Understanding original equipment manufacturer vehicle maintenance and support if issues arise. \\nFind additional information on EVs on the AFDC at afdc.energy.gov/vehicles/ \\nelectric.html . \\nFor more information, visit: \\nafdc.energy.gov \\nDOE/GO-102023-6050 • August 2023 \\n4 ']"
      ]
     },
     "execution_count": 88,
     "metadata": {},
     "output_type": "execute_result"
    }
   ],
   "source": [
    "chunk_ques_gen"
   ]
  },
  {
   "cell_type": "code",
   "execution_count": 89,
   "metadata": {},
   "outputs": [],
   "source": [
    "from langchain.docstore.document import Document"
   ]
  },
  {
   "cell_type": "code",
   "execution_count": 90,
   "metadata": {},
   "outputs": [],
   "source": [
    "document_ques_gen = [Document(page_content = t) for t in chunk_ques_gen]"
   ]
  },
  {
   "cell_type": "code",
   "execution_count": 91,
   "metadata": {},
   "outputs": [
    {
     "data": {
      "text/plain": [
       "[Document(metadata={}, page_content=' \\n \\n \\n \\n \\n \\n \\n \\n \\n \\n \\n \\n \\n \\n \\n \\n \\n   \\n \\n \\n \\n \\n \\n \\n \\n \\n \\n \\n \\n \\n  \\n \\n \\n \\n \\n \\n \\n Electric Vehicle \\nBasics \\nElectric vehicles (EVs) use electricity \\nas their primary fuel or to improve the effciency of conventional vehicle designs. EVs include all-electric vehicles, also referred to as battery electric vehicles (BEVs), and plug-in hybrid electric vehicles (PHEVs). In colloquial references, these vehicles are called electric cars, or simply EVs, even though some of these vehicles still use liquid fuels in conjunction with electricity. EVs are known for providing instant torque and a quiet driver experience. \\nOther types of electric-drive vehicles \\nnot covered here include hybrid electric vehicles, which are powered by a conventional engine and an electric motor that uses energy stored in a battery that is charged by regenerative braking, not by plugging in, and fuel cell electric vehicles, which use a propulsion system similar to electric vehicles, where energy stored as hydrogen is converted to electricity by the fuel cell. \\nAll-Electric Vehicles \\nAll-electric vehicles do not have \\nconventional engines but are driven solely by one or more electric motors powered by energy stored in batteries. The batteries are charged by plugging the vehicle into \\nNational Highway Travel Survey, U.S. Department \\nof Transportation, Federal Highway Administration, 2008, fhwa.dot.gov/policyinformation/pubs/pl08021/ fig4_5.cfm . \\nElectric vehicles are charged by plugging the vehicle into an electric power source. \\nPhoto courtesy of Forth. \\nan electric power source and can also be \\ncharged through regenerative braking. All-electric vehicles produce no tailpipe emissions, although there are “life cycle” emissions associated with the electricity production. \\nAll-electric vehicles typically have \\nshorter driving ranges per charge than conventional vehicles have per tank of gasoline. Most new BEVs are designed to travel between 110 and over 300 miles on a fully charged battery, depending on the model. For context, 90% of all U.S. household trips cover less than 100 miles.\\n1 An all-electric vehicle’s range \\nvaries according to driving conditions and driving habits. Extreme temperatures tend to reduce range because energy from the battery powers climate control systems in addition to powering the motor. Speeding, aggressive driving, and heavy loads can also reduce range. Regenerative Braking \\nRegenerative braking allows EVs to \\ncapture energy normally lost during braking by using the electric motor as a generator and storing that captured energy in the battery. \\nPlug-In Hybrid Electric Vehicles \\nPHEVs use batteries to power an electric \\nmotor and use another fuel, such as gasoline, to power a conventional engine. The batteries are typically charged by plugging the PHEV into an electric power source, although they can also be charged by the conventional engine and through regenerative braking. \\nPHEVs have an all-electric driving range \\nof about 15 to 60+ miles, depending on the model. As long as the battery is \\nEVs at a Glance \\nEVs run on electricity alone. They are powered by one or more \\nelectric motors and a battery. The battery is charged by plugging \\nthe vehicle into an electric power source and through regenerative braking. \\nPHEVs  can travel moderate distances on electricity alone. \\nThe battery can be charged by plugging into an electric power source, through regenerative braking, and by the engine. \\nPHEVs don’t have to be plugged in before driving. They can also be fueled solely with conventional fuel. However, they will not achieve maximum fuel economy or take full advantage of their all-electric capabilities without plugging in. 1 Getting started with an EV is easy \\nthanks to the charging “cordset” that comes with most vehicles. \\nPhoto by \\nErik Nelsen, NREL 64277. 2 fhwa.dot.gov/environment/alternative_fuel_corridors \\n \\n  \\n \\n \\n  charged, a PHEV can draw most of its \\npower from electricity for typical daily driving. The engine will then power on when the battery is mostly depleted, during rapid acceleration, at high speeds, or when intensive heating or air conditioning is required. \\nWhen running on battery power alone, \\nPHEVs produce no tailpipe emissions. Even when the conventional engine is running, PHEVs typically consume less gasoline and produce fewer emissions than similar conventional vehicles. \\nWhat EV Models Are \\nAvailable? \\nNearly all major vehicle manufacturers \\nhave EV models available, and some have committed to transitioning to selling only EVs by 2030. \\nMedium- and heavy-duty options are \\nalso available for fleet applications. See Considering an EV for fleet-specific considerations. \\nFor up-to-date information on available \\nmodels, use the Alternative Fuels Data Center (AFDC) Vehicle Search tool (afdc. energy.gov/tools) or the Find a Car tool on FuelEconomy.gov (fueleconomy.gov/ feg/findacar.shtml). \\nMore heavy-duty vehicle manufacturers \\nare now offering plug-in models for feets.\\n Photo by Dennis Schroeder, NREL \\n46574. \\nHow Do These Vehicles \\n“Fuel Up”? \\nCharging equipment provides electricity \\nto charge EV batteries. The charging unit communicates with the vehicle to ensure that it supplies an appropriate and safe flow of electricity. \\nThere are more than 140,000 publicly \\navailable charging outlets—and counting—across the country. Most currently available light-duty BEVs have ranges between 110 and over 300 miles. Technological advances such as larger batteries and growing access to charging are increasingly addressing “range anxiety,” or the fear of running out of charge. Learn more about trends in EV charging infrastructure ( afdc.energy.gov/ \\nfuels/electricity_infrastructure_trends. html). \\nIt may take as little as 30 minutes to fully charge an EV’s battery, but charging times vary based on the type or level of charging; the type of battery, its capacity, and how depleted it is; and the capacity of the vehicle’s internal charger (see Charging Options table). \\nCharging units can be installed in \\nresidential, fleet, workplace, and public settings. Most EVs come with a 110-volt “Level 1” cordset that can be plugged into a typical electrical outlet. For quicker charging, homeowners can install a 240-V “Level 2” unit on a dedicated electrical circuit. This can often be done with little or no required electrical upgrades, as most homes have 240-V service for appliances like dryers and electric ranges. A Level 2 unit can be portable or “hard wired” into a building and can be purchased for as little as $200. For more information on installing charging equipment, see Charging Infrastructure Procurement and Installation on the AFDC (afdc.energy. gov/fuels/electricity_infrastructure_ development.html ). \\nTo make long-distance travel more accessible, the Federal Highway Administration is establishing a network of alternative fueling and charging infrastructure along highway corridors. Designated EV corridors\\n2 supported \\nby DC fast charging stations are under development nationwide. To find public stations, use the Alternative Fueling Station Locator ( afdc.energy.gov/ \\nstations), which is available as an iPhone and Android app. \\nEquipment Types and Costs \\nCharging units are classified according to the rate at which they charge batteries. Two types—Level 1 and Level 2— provide AC power to the vehicle, with the \\nCharging Made Simple \\nMost EV owners charge at home or \\nat work because charging is more convenient and cost-effective than using public stations. But public equipment is also easy to use. Depending on the station, drivers might use a network card, credit card, phone, cash, or even just enter an account number. There are also free chargers where users can just plug in. \\nAn added beneft of going electric is \\nthat electricity prices are less volatile than gasoline and diesel prices, so drivers can more easily forecast their fueling expenses. See a comparison of all fuel prices over time on the AFDC Fuel Prices page (afdc.energy.gov/fuels/prices.html ). \\n2 All Electric \\nPlug-in Hybrid \\nHybrid \\nGasoline National Average Annual Emissions per Vehicle \\nLight-duty vehicles excluding fuel cell electric 0 3k 6k 9k 12k 15k \\nPounds of CO2 Equivalent \\nBased on assumptions updated in 2020 Electric emissions \\nGasoline emissions \\n \\n  \\n \\n \\n \\n \\n Charging Options \\nTypical Charging Time Cost for Equipment, Installation, \\nand Site Costs* \\nLevel 1 2–5 miles of range per hour \\nof charging $0 to $1,800 \\nLevel 2** 10–30 miles of range per hour of charging $800 to $33,000 \\nDC Fast \\nCharging** 100–200+ miles of range in 30 minutes $30,000 to over $120,000 \\n*Costs do not include the price of operation (network charges, electricity, utility \\ndemand charges). Factors affecting the price include equipment (charging equipment, electrical supplies), electrical installation (upgrading or adding electrical service, upgrading the electrical panel, conduit, and trenching), site improvements (adding pavement), activating a network, payment collection, labor, permitting, and taxes. \\n**Charging unit cost (Level 2 and DCFC) is proportional to the unit’s power rating. The \\nhigher its rating, the higher the cost. A Level 2 unit can range from 6.6 to 19.2 kW output. A DCFC unit can range from 25 to 350 kW. Charging varies by charging unit power, vehicle, and battery state of charge. \\nvehicle’s onboard equipment converting \\nAC to DC to charge the batteries. The other type—DC fast charging (DCFC)— provides DC power directly. \\nWireless or “inductive” charging \\nequipment uses an electromagnetic field to transfer electricity to an EV without a cord. Today, this technology is used primarily at higher power levels in heavy-duty applications like transit buses. \\nSome states and utilities offer financial \\nincentives for charging stations; see the AFDC Laws & Incentives page for more information ( afdc.energy.gov/laws). How Much Do the \\nVehicles Cost? \\nEVs are generally more expensive than \\ntheir conventional counterparts. However, lower fueling and maintenance costs can make them a competitive option. For example, electric drivetrains are more efficient, making BEVs (and PHEVs operating in electric mode) more than three times as efficient. Electricity is also less expensive than gasoline or diesel on an energy-equivalent basis. BEV drivers can save as much as $14,500 in fuel costs alone over 15 years (see table: Benefits \\nof Electric-Drive Vehicles). Federal and state tax credits and private and utility rebates may also be available to help offset the cost of EVs. For information on available vehicle incentives, see the AFDC Laws & Incentives page ( afdc.energy.gov/laws). \\nTo find fuel economy ratings and fuel/ vehicle cost comparisons among currently available models, visit FuelEconomy.gov . \\nHow Do Their Emissions \\nCompare With Those of Conventional Vehicles? \\nEVs typically produce fewer emissions \\nthan conventional vehicles. All-electric vehicles produce zero tailpipe emissions, and PHEVs produce no tailpipe emissions when in electric-only mode. \\nLife cycle emissions are generated when \\nfuel or electricity is produced, as well as during the manufacturing of the vehicle itself. The life cycle emissions of an EV largely depend on how the electricity is generated (and how much a PHEV’s engine is being used), and this varies by region. Generally, all-electric vehicles and PHEVs produce one-third to half the emissions of conventional vehicles, respectively, considering both air pollutants and greenhouse gases. Regions with high use of renewable energy will see stronger emissions benefits. See a comparison of emissions by state using the AFDC emissions tool at afdc.energy. gov/ev-emissions.html . \\nWhat About Safety and \\nMaintenance? \\nAll EVs undergo the same rigorous \\nsafety testing as conventional vehicles sold in the United States and must meet Federal Motor Vehicle Safety Standards (including those for batteries). For additional safety information, refer to the AFDC’s Maintenance and Safety of Hybrid and Plug-In Electric Vehicles page (afdc.energy.gov/vehicles/electric_ maintenance.html ). \\nBecause PHEVs have conventional engines, their maintenance requirements are similar to conventional vehicles. \\n3 PHEVs Beneÿts of \\nElectric-Drive \\nVehicles compared \\nto conventional vehicles \\nFuel Economy All-electric vehicles \\nMost achieve combined fuel \\neconomy ratings higher than \\n90 mpge .* \\nEmissions \\nReductions Produce no tailpipe emissions \\nwhen in electric-only mode. \\nGenerally, they produce less than \\nhalf the emissions . Produce no tailpipe \\nemissions . \\nGenerally, they produce one-third \\nthe emissions . \\nFuel Cost \\nSavings** In electric-only mode, PHEV electricity costs range about \\n3¢–10¢ per mile . \\nOn gasoline only, fuel costs are \\nabout 4¢–36¢ per mile . All-electric vehicles run on \\nelectricity only. Electricity costs are \\n2¢–6¢ per mile . \\nFueling Flexibility Can fuel at gas stations . \\nCan charge at: \\n• home • public charging stations • some workplaces Can charge at: \\n• home • public charging stations • some workplaces Most achieve fuel economy ratings \\nhigher than 100 mpge .* \\nElectricity is produced from varied, domestic sources: \\n \\n \\n \\n   \\n \\n \\n  \\n \\n Sources: AFDC (afdc.energy.gov), FuelEconomy.gov \\n* EVs are rated not in miles per gallon (mpg) but miles per gallon of gasoline \\nequivalent (mpge). Similar to mpg, mpge represents the number of miles the vehicle can travel using a quantity of fuel (or electricity) with the same energy content as a gallon of gasoline. \\n**Compare to 10¢–15¢ per mile for conventional gasoline- or diesel-powered sedans. \\nFor all EVs, the electrical system (battery, \\nmotor, and associated electronics) requires minimal scheduled maintenance. A manufacturer’s warranty of a battery typically covers 8 years or 100,000 miles, and the expected battery lifetime is 12 to 15 years under normal operating conditions and in moderate climates. Check with your manufacturer about vehicle and battery warranties. Brake systems on these vehicles typically last longer than conventional vehicles because regenerative braking reduces brake wear. \\nAll-electric vehicles lack conventional \\nengines and have far fewer moving parts and fewer fluids to change, so they typically require less maintenance than conventional vehicles or even PHEVs. Considering an EV \\nFleet managers should consider: \\n• Arranging for basic technician and \\ndriver training \\n• Conducting site planning for charging units, including setbacks, electrical service locations, potential service upgrade needs, and future upgrades \\n• Determining when and how the vehicles will charge (including working with utilities to understand time-of-use and demand charges), as well as managed charging \\n• Exploring private or utility incentives for equipment installation or power use • Evaluating equipment vendors and considering needs/options such as smart charging, cloud communications, vendor payment, and equipment owner -\\nship and maintenance \\n• Timing the purchase and installation of charging units with the delivery of vehicles (this can be especially slow/complicated for municipal organizations). \\nFor medium- and heavy-duty vehicles, there are additional considerations: \\n• Examining auxiliary loads (e.g., \\nheating/cooling, lights, power take-off/ hydraulics use), and optional auxiliary power units or heating, ventilating, and air-conditioning (HV AC) units powered by diesel or another fuel \\n• Determining the impacts of increased electricity consumption, especially when several vehicles need to be charged simultaneously at high charging rates \\n• Understanding original equipment manufacturer vehicle maintenance and support if issues arise. \\nFind additional information on EVs on the AFDC at afdc.energy.gov/vehicles/ \\nelectric.html . \\nFor more information, visit: \\nafdc.energy.gov \\nDOE/GO-102023-6050 • August 2023 \\n4 ')]"
      ]
     },
     "execution_count": 91,
     "metadata": {},
     "output_type": "execute_result"
    }
   ],
   "source": [
    "document_ques_gen"
   ]
  },
  {
   "cell_type": "code",
   "execution_count": 92,
   "metadata": {},
   "outputs": [],
   "source": [
    "splitter_ans_gen = TokenTextSplitter(\n",
    "    model_name = 'gpt-3.5-turbo',\n",
    "    chunk_size = 1000,\n",
    "    chunk_overlap = 100\n",
    ")"
   ]
  },
  {
   "cell_type": "code",
   "execution_count": 93,
   "metadata": {},
   "outputs": [],
   "source": [
    "document_answer_gen = splitter_ans_gen.split_documents(\n",
    "    document_ques_gen\n",
    ")"
   ]
  },
  {
   "cell_type": "code",
   "execution_count": 94,
   "metadata": {},
   "outputs": [
    {
     "data": {
      "text/plain": [
       "[Document(metadata={}, page_content=' \\n \\n \\n \\n \\n \\n \\n \\n \\n \\n \\n \\n \\n \\n \\n \\n \\n   \\n \\n \\n \\n \\n \\n \\n \\n \\n \\n \\n \\n \\n  \\n \\n \\n \\n \\n \\n \\n Electric Vehicle \\nBasics \\nElectric vehicles (EVs) use electricity \\nas their primary fuel or to improve the effciency of conventional vehicle designs. EVs include all-electric vehicles, also referred to as battery electric vehicles (BEVs), and plug-in hybrid electric vehicles (PHEVs). In colloquial references, these vehicles are called electric cars, or simply EVs, even though some of these vehicles still use liquid fuels in conjunction with electricity. EVs are known for providing instant torque and a quiet driver experience. \\nOther types of electric-drive vehicles \\nnot covered here include hybrid electric vehicles, which are powered by a conventional engine and an electric motor that uses energy stored in a battery that is charged by regenerative braking, not by plugging in, and fuel cell electric vehicles, which use a propulsion system similar to electric vehicles, where energy stored as hydrogen is converted to electricity by the fuel cell. \\nAll-Electric Vehicles \\nAll-electric vehicles do not have \\nconventional engines but are driven solely by one or more electric motors powered by energy stored in batteries. The batteries are charged by plugging the vehicle into \\nNational Highway Travel Survey, U.S. Department \\nof Transportation, Federal Highway Administration, 2008, fhwa.dot.gov/policyinformation/pubs/pl08021/ fig4_5.cfm . \\nElectric vehicles are charged by plugging the vehicle into an electric power source. \\nPhoto courtesy of Forth. \\nan electric power source and can also be \\ncharged through regenerative braking. All-electric vehicles produce no tailpipe emissions, although there are “life cycle” emissions associated with the electricity production. \\nAll-electric vehicles typically have \\nshorter driving ranges per charge than conventional vehicles have per tank of gasoline. Most new BEVs are designed to travel between 110 and over 300 miles on a fully charged battery, depending on the model. For context, 90% of all U.S. household trips cover less than 100 miles.\\n1 An all-electric vehicle’s range \\nvaries according to driving conditions and driving habits. Extreme temperatures tend to reduce range because energy from the battery powers climate control systems in addition to powering the motor. Speeding, aggressive driving, and heavy loads can also reduce range. Regenerative Braking \\nRegenerative braking allows EVs to \\ncapture energy normally lost during braking by using the electric motor as a generator and storing that captured energy in the battery. \\nPlug-In Hybrid Electric Vehicles \\nPHEVs use batteries to power an electric \\nmotor and use another fuel, such as gasoline, to power a conventional engine. The batteries are typically charged by plugging the PHEV into an electric power source, although they can also be charged by the conventional engine and through regenerative braking. \\nPHEVs have an all-electric driving range \\nof about 15 to 60+ miles, depending on the model. As long as the battery is \\nEVs at a Glance \\nEVs run on electricity alone. They are powered by one or more \\nelectric motors and a battery. The battery is charged by plugging \\nthe vehicle into an electric power source and through regenerative braking. \\nPHEVs  can travel moderate distances on electricity alone. \\nThe battery can be charged by plugging into an electric power source, through regenerative braking, and by the engine. \\nPHEVs don’t have to be plugged in before driving. They can also be fueled solely with conventional fuel. However, they will not achieve maximum fuel economy or take full advantage of their all-electric capabilities without plugging in. 1 Getting started with an EV is easy \\nthanks to the charging “cordset” that comes with most vehicles. \\nPhoto by \\nErik Nelsen, NREL 64277. 2 fhwa.dot.gov/environment/alternative_fuel_corridors \\n \\n  \\n \\n \\n  charged, a PHEV can draw most of its \\npower from electricity for typical daily driving. The engine will then power on when the battery is mostly depleted, during rapid acceleration, at high speeds, or when intensive heating or air conditioning is required. \\nWhen running on battery power alone, \\nPHEVs produce no tailpipe emissions. Even when the conventional engine is running, PHEVs typically consume less gasoline and produce fewer emissions than similar conventional vehicles. \\nWhat EV Models Are \\nAvailable? \\nNearly all major vehicle manufacturers \\nhave EV models available, and some have committed to transitioning to selling only EVs by 2030. \\nMedium- and heavy-duty options are \\nalso available for fleet applications. See Considering an EV for fleet-specific considerations. \\nFor up-to-date information on available \\nmodels, use the Alternative Fuels Data Center (AFDC) Vehicle Search tool (afdc. energy.gov/tools) or the Find a Car'),\n",
       " Document(metadata={}, page_content=' vehicles. \\nWhat EV Models Are \\nAvailable? \\nNearly all major vehicle manufacturers \\nhave EV models available, and some have committed to transitioning to selling only EVs by 2030. \\nMedium- and heavy-duty options are \\nalso available for fleet applications. See Considering an EV for fleet-specific considerations. \\nFor up-to-date information on available \\nmodels, use the Alternative Fuels Data Center (AFDC) Vehicle Search tool (afdc. energy.gov/tools) or the Find a Car tool on FuelEconomy.gov (fueleconomy.gov/ feg/findacar.shtml). \\nMore heavy-duty vehicle manufacturers \\nare now offering plug-in models for feets.\\n Photo by Dennis Schroeder, NREL \\n46574. \\nHow Do These Vehicles \\n“Fuel Up”? \\nCharging equipment provides electricity \\nto charge EV batteries. The charging unit communicates with the vehicle to ensure that it supplies an appropriate and safe flow of electricity. \\nThere are more than 140,000 publicly \\navailable charging outlets—and counting—across the country. Most currently available light-duty BEVs have ranges between 110 and over 300 miles. Technological advances such as larger batteries and growing access to charging are increasingly addressing “range anxiety,” or the fear of running out of charge. Learn more about trends in EV charging infrastructure ( afdc.energy.gov/ \\nfuels/electricity_infrastructure_trends. html). \\nIt may take as little as 30 minutes to fully charge an EV’s battery, but charging times vary based on the type or level of charging; the type of battery, its capacity, and how depleted it is; and the capacity of the vehicle’s internal charger (see Charging Options table). \\nCharging units can be installed in \\nresidential, fleet, workplace, and public settings. Most EVs come with a 110-volt “Level 1” cordset that can be plugged into a typical electrical outlet. For quicker charging, homeowners can install a 240-V “Level 2” unit on a dedicated electrical circuit. This can often be done with little or no required electrical upgrades, as most homes have 240-V service for appliances like dryers and electric ranges. A Level 2 unit can be portable or “hard wired” into a building and can be purchased for as little as $200. For more information on installing charging equipment, see Charging Infrastructure Procurement and Installation on the AFDC (afdc.energy. gov/fuels/electricity_infrastructure_ development.html ). \\nTo make long-distance travel more accessible, the Federal Highway Administration is establishing a network of alternative fueling and charging infrastructure along highway corridors. Designated EV corridors\\n2 supported \\nby DC fast charging stations are under development nationwide. To find public stations, use the Alternative Fueling Station Locator ( afdc.energy.gov/ \\nstations), which is available as an iPhone and Android app. \\nEquipment Types and Costs \\nCharging units are classified according to the rate at which they charge batteries. Two types—Level 1 and Level 2— provide AC power to the vehicle, with the \\nCharging Made Simple \\nMost EV owners charge at home or \\nat work because charging is more convenient and cost-effective than using public stations. But public equipment is also easy to use. Depending on the station, drivers might use a network card, credit card, phone, cash, or even just enter an account number. There are also free chargers where users can just plug in. \\nAn added beneft of going electric is \\nthat electricity prices are less volatile than gasoline and diesel prices, so drivers can more easily forecast their fueling expenses. See a comparison of all fuel prices over time on the AFDC Fuel Prices page (afdc.energy.gov/fuels/prices.html ). \\n2 All Electric \\nPlug-in Hybrid \\nHybrid \\nGasoline National Average Annual Emissions per Vehicle \\nLight-duty vehicles excluding fuel cell electric 0 3k 6k 9k 12k 15k \\nPounds of CO2 Equivalent \\nBased on assumptions updated in 2020 Electric emissions \\nGasoline emissions \\n \\n  \\n \\n \\n \\n \\n Charging Options \\nTypical Charging Time Cost for Equipment, Installation, \\nand Site Costs* \\nLevel 1 2–5 miles of range per hour \\nof charging $0 to $1,800 \\nLevel 2** 10–30 miles of range per hour of charging $800 to $33,000 \\nDC Fast \\nCharging** 100–200+ miles of range in 30 minutes $30,000 to over $120,000 \\n*Costs do not include the price of operation (network charges, electricity, utility \\ndemand charges). Factors affecting the price include equipment (charging equipment, electrical supplies), electrical installation (upgrading or adding electrical service, upgrading the electrical panel, conduit, and trenching), site improvements (adding pavement), activating a network, payment collection, labor,'),\n",
       " Document(metadata={}, page_content=' \\nDC Fast \\nCharging** 100–200+ miles of range in 30 minutes $30,000 to over $120,000 \\n*Costs do not include the price of operation (network charges, electricity, utility \\ndemand charges). Factors affecting the price include equipment (charging equipment, electrical supplies), electrical installation (upgrading or adding electrical service, upgrading the electrical panel, conduit, and trenching), site improvements (adding pavement), activating a network, payment collection, labor, permitting, and taxes. \\n**Charging unit cost (Level 2 and DCFC) is proportional to the unit’s power rating. The \\nhigher its rating, the higher the cost. A Level 2 unit can range from 6.6 to 19.2 kW output. A DCFC unit can range from 25 to 350 kW. Charging varies by charging unit power, vehicle, and battery state of charge. \\nvehicle’s onboard equipment converting \\nAC to DC to charge the batteries. The other type—DC fast charging (DCFC)— provides DC power directly. \\nWireless or “inductive” charging \\nequipment uses an electromagnetic field to transfer electricity to an EV without a cord. Today, this technology is used primarily at higher power levels in heavy-duty applications like transit buses. \\nSome states and utilities offer financial \\nincentives for charging stations; see the AFDC Laws & Incentives page for more information ( afdc.energy.gov/laws). How Much Do the \\nVehicles Cost? \\nEVs are generally more expensive than \\ntheir conventional counterparts. However, lower fueling and maintenance costs can make them a competitive option. For example, electric drivetrains are more efficient, making BEVs (and PHEVs operating in electric mode) more than three times as efficient. Electricity is also less expensive than gasoline or diesel on an energy-equivalent basis. BEV drivers can save as much as $14,500 in fuel costs alone over 15 years (see table: Benefits \\nof Electric-Drive Vehicles). Federal and state tax credits and private and utility rebates may also be available to help offset the cost of EVs. For information on available vehicle incentives, see the AFDC Laws & Incentives page ( afdc.energy.gov/laws). \\nTo find fuel economy ratings and fuel/ vehicle cost comparisons among currently available models, visit FuelEconomy.gov . \\nHow Do Their Emissions \\nCompare With Those of Conventional Vehicles? \\nEVs typically produce fewer emissions \\nthan conventional vehicles. All-electric vehicles produce zero tailpipe emissions, and PHEVs produce no tailpipe emissions when in electric-only mode. \\nLife cycle emissions are generated when \\nfuel or electricity is produced, as well as during the manufacturing of the vehicle itself. The life cycle emissions of an EV largely depend on how the electricity is generated (and how much a PHEV’s engine is being used), and this varies by region. Generally, all-electric vehicles and PHEVs produce one-third to half the emissions of conventional vehicles, respectively, considering both air pollutants and greenhouse gases. Regions with high use of renewable energy will see stronger emissions benefits. See a comparison of emissions by state using the AFDC emissions tool at afdc.energy. gov/ev-emissions.html . \\nWhat About Safety and \\nMaintenance? \\nAll EVs undergo the same rigorous \\nsafety testing as conventional vehicles sold in the United States and must meet Federal Motor Vehicle Safety Standards (including those for batteries). For additional safety information, refer to the AFDC’s Maintenance and Safety of Hybrid and Plug-In Electric Vehicles page (afdc.energy.gov/vehicles/electric_ maintenance.html ). \\nBecause PHEVs have conventional engines, their maintenance requirements are similar to conventional vehicles. \\n3 PHEVs Beneÿts of \\nElectric-Drive \\nVehicles compared \\nto conventional vehicles \\nFuel Economy All-electric vehicles \\nMost achieve combined fuel \\neconomy ratings higher than \\n90 mpge .* \\nEmissions \\nReductions Produce no tailpipe emissions \\nwhen in electric-only mode. \\nGenerally, they produce less than \\nhalf the emissions . Produce no tailpipe \\nemissions . \\nGenerally, they produce one-third \\nthe emissions . \\nFuel Cost \\nSavings** In electric-only mode, PHEV electricity costs range about \\n3¢–10¢ per mile . \\nOn gasoline only, fuel costs are \\nabout 4¢–36¢ per mile . All-electric vehicles run on \\nelectricity only. Electricity costs are \\n2¢–6¢ per mile . \\nFueling Flexibility Can fuel at gas stations . \\nCan charge at: \\n• home • public charging stations • some workplaces Can charge at: \\n• home • public charging stations • some workplaces Most achieve fuel economy ratings \\nhigher than 100 mpge .* \\nElectricity is produced from varied, domestic sources: \\n \\n \\n \\n   \\n \\n \\n  \\n \\n Sources: AF'),\n",
       " Document(metadata={}, page_content='¢ per mile . All-electric vehicles run on \\nelectricity only. Electricity costs are \\n2¢–6¢ per mile . \\nFueling Flexibility Can fuel at gas stations . \\nCan charge at: \\n• home • public charging stations • some workplaces Can charge at: \\n• home • public charging stations • some workplaces Most achieve fuel economy ratings \\nhigher than 100 mpge .* \\nElectricity is produced from varied, domestic sources: \\n \\n \\n \\n   \\n \\n \\n  \\n \\n Sources: AFDC (afdc.energy.gov), FuelEconomy.gov \\n* EVs are rated not in miles per gallon (mpg) but miles per gallon of gasoline \\nequivalent (mpge). Similar to mpg, mpge represents the number of miles the vehicle can travel using a quantity of fuel (or electricity) with the same energy content as a gallon of gasoline. \\n**Compare to 10¢–15¢ per mile for conventional gasoline- or diesel-powered sedans. \\nFor all EVs, the electrical system (battery, \\nmotor, and associated electronics) requires minimal scheduled maintenance. A manufacturer’s warranty of a battery typically covers 8 years or 100,000 miles, and the expected battery lifetime is 12 to 15 years under normal operating conditions and in moderate climates. Check with your manufacturer about vehicle and battery warranties. Brake systems on these vehicles typically last longer than conventional vehicles because regenerative braking reduces brake wear. \\nAll-electric vehicles lack conventional \\nengines and have far fewer moving parts and fewer fluids to change, so they typically require less maintenance than conventional vehicles or even PHEVs. Considering an EV \\nFleet managers should consider: \\n• Arranging for basic technician and \\ndriver training \\n• Conducting site planning for charging units, including setbacks, electrical service locations, potential service upgrade needs, and future upgrades \\n• Determining when and how the vehicles will charge (including working with utilities to understand time-of-use and demand charges), as well as managed charging \\n• Exploring private or utility incentives for equipment installation or power use • Evaluating equipment vendors and considering needs/options such as smart charging, cloud communications, vendor payment, and equipment owner -\\nship and maintenance \\n• Timing the purchase and installation of charging units with the delivery of vehicles (this can be especially slow/complicated for municipal organizations). \\nFor medium- and heavy-duty vehicles, there are additional considerations: \\n• Examining auxiliary loads (e.g., \\nheating/cooling, lights, power take-off/ hydraulics use), and optional auxiliary power units or heating, ventilating, and air-conditioning (HV AC) units powered by diesel or another fuel \\n• Determining the impacts of increased electricity consumption, especially when several vehicles need to be charged simultaneously at high charging rates \\n• Understanding original equipment manufacturer vehicle maintenance and support if issues arise. \\nFind additional information on EVs on the AFDC at afdc.energy.gov/vehicles/ \\nelectric.html . \\nFor more information, visit: \\nafdc.energy.gov \\nDOE/GO-102023-6050 • August 2023 \\n4 ')]"
      ]
     },
     "execution_count": 94,
     "metadata": {},
     "output_type": "execute_result"
    }
   ],
   "source": [
    "document_answer_gen"
   ]
  },
  {
   "cell_type": "code",
   "execution_count": 95,
   "metadata": {},
   "outputs": [
    {
     "data": {
      "text/plain": [
       "4"
      ]
     },
     "execution_count": 95,
     "metadata": {},
     "output_type": "execute_result"
    }
   ],
   "source": [
    "len(document_answer_gen)"
   ]
  },
  {
   "cell_type": "code",
   "execution_count": 96,
   "metadata": {},
   "outputs": [],
   "source": [
    "from langchain_google_genai import ChatGoogleGenerativeAI\n",
    "from langchain_google_genai import GoogleGenerativeAIEmbeddings"
   ]
  },
  {
   "cell_type": "code",
   "execution_count": 97,
   "metadata": {},
   "outputs": [],
   "source": [
    "llm_ques_gen_pipeline = ChatGoogleGenerativeAI(model=\"gemini-pro\", convert_system_message_to_human=True)"
   ]
  },
  {
   "cell_type": "code",
   "execution_count": 119,
   "metadata": {},
   "outputs": [],
   "source": [
    "prompt_template = \"\"\"\n",
    "You are an expert at creating questions based on  materials and documentation.\n",
    "Your goal is to prepare an engineer for their exam and tests.\n",
    "You do this by asking questions about the text below:\n",
    "\n",
    "------------\n",
    "{text}\n",
    "------------\n",
    "\n",
    "Create questions that will prepare the engineer for their tests.\n",
    "Make sure not to lose any important information.\n",
    "Provide me only questions as list\n",
    "\n",
    "QUESTIONS:\n",
    "\"\"\""
   ]
  },
  {
   "cell_type": "code",
   "execution_count": 120,
   "metadata": {},
   "outputs": [],
   "source": [
    "from langchain.prompts import PromptTemplate"
   ]
  },
  {
   "cell_type": "code",
   "execution_count": 121,
   "metadata": {},
   "outputs": [],
   "source": [
    "PROMPT_QUESTIONS = PromptTemplate(template=prompt_template, input_variables=['text'])"
   ]
  },
  {
   "cell_type": "code",
   "execution_count": 122,
   "metadata": {},
   "outputs": [],
   "source": [
    "refine_template = (\"\"\"\n",
    "You are an expert at creating practice questions based on material and documentation.\n",
    "Your goal is to help a engineer prepare for a test.\n",
    "We have received some practice questions to a certain extent: {existing_answer}.\n",
    "We have the option to refine the existing questions or add new ones.\n",
    "(only if necessary) with some more context below.\n",
    "------------\n",
    "{text}\n",
    "------------\n",
    "\n",
    "Given the new context, refine the original questions in English.\n",
    "If the context is not helpful, please provide the original questions.\n",
    "QUESTIONS:\n",
    "\"\"\"\n",
    ")"
   ]
  },
  {
   "cell_type": "code",
   "execution_count": 123,
   "metadata": {},
   "outputs": [],
   "source": [
    "REFINE_PROMPT_QUESTIONS = PromptTemplate(\n",
    "    input_variables=[\"existing_answer\", \"text\"],\n",
    "    template=refine_template,\n",
    ")"
   ]
  },
  {
   "cell_type": "code",
   "execution_count": 124,
   "metadata": {},
   "outputs": [],
   "source": [
    "from langchain.chains.summarize import load_summarize_chain"
   ]
  },
  {
   "cell_type": "code",
   "execution_count": 125,
   "metadata": {},
   "outputs": [],
   "source": [
    "ques_gen_chain = load_summarize_chain(llm = llm_ques_gen_pipeline, \n",
    "                                          chain_type = \"refine\", \n",
    "                                          verbose = True, \n",
    "                                          question_prompt=PROMPT_QUESTIONS, \n",
    "                                          refine_prompt=REFINE_PROMPT_QUESTIONS)"
   ]
  },
  {
   "cell_type": "code",
   "execution_count": 126,
   "metadata": {},
   "outputs": [
    {
     "name": "stderr",
     "output_type": "stream",
     "text": [
      "Error in StdOutCallbackHandler.on_chain_start callback: AttributeError(\"'NoneType' object has no attribute 'get'\")\n",
      "Error in StdOutCallbackHandler.on_chain_start callback: AttributeError(\"'NoneType' object has no attribute 'get'\")\n",
      "e:\\Users\\prath\\anaconda3\\envs\\interview\\lib\\site-packages\\langchain_google_genai\\chat_models.py:388: UserWarning: Convert_system_message_to_human will be deprecated!\n",
      "  warnings.warn(\"Convert_system_message_to_human will be deprecated!\")\n"
     ]
    },
    {
     "name": "stdout",
     "output_type": "stream",
     "text": [
      "Prompt after formatting:\n",
      "\u001b[32;1m\u001b[1;3m\n",
      "You are an expert at creating questions based on  materials and documentation.\n",
      "Your goal is to prepare an engineer for their exam and tests.\n",
      "You do this by asking questions about the text below:\n",
      "\n",
      "------------\n",
      " \n",
      " \n",
      " \n",
      " \n",
      " \n",
      " \n",
      " \n",
      " \n",
      " \n",
      " \n",
      " \n",
      " \n",
      " \n",
      " \n",
      " \n",
      " \n",
      " \n",
      "   \n",
      " \n",
      " \n",
      " \n",
      " \n",
      " \n",
      " \n",
      " \n",
      " \n",
      " \n",
      " \n",
      " \n",
      " \n",
      "  \n",
      " \n",
      " \n",
      " \n",
      " \n",
      " \n",
      " \n",
      " Electric Vehicle \n",
      "Basics \n",
      "Electric vehicles (EVs) use electricity \n",
      "as their primary fuel or to improve the effciency of conventional vehicle designs. EVs include all-electric vehicles, also referred to as battery electric vehicles (BEVs), and plug-in hybrid electric vehicles (PHEVs). In colloquial references, these vehicles are called electric cars, or simply EVs, even though some of these vehicles still use liquid fuels in conjunction with electricity. EVs are known for providing instant torque and a quiet driver experience. \n",
      "Other types of electric-drive vehicles \n",
      "not covered here include hybrid electric vehicles, which are powered by a conventional engine and an electric motor that uses energy stored in a battery that is charged by regenerative braking, not by plugging in, and fuel cell electric vehicles, which use a propulsion system similar to electric vehicles, where energy stored as hydrogen is converted to electricity by the fuel cell. \n",
      "All-Electric Vehicles \n",
      "All-electric vehicles do not have \n",
      "conventional engines but are driven solely by one or more electric motors powered by energy stored in batteries. The batteries are charged by plugging the vehicle into \n",
      "National Highway Travel Survey, U.S. Department \n",
      "of Transportation, Federal Highway Administration, 2008, fhwa.dot.gov/policyinformation/pubs/pl08021/ fig4_5.cfm . \n",
      "Electric vehicles are charged by plugging the vehicle into an electric power source. \n",
      "Photo courtesy of Forth. \n",
      "an electric power source and can also be \n",
      "charged through regenerative braking. All-electric vehicles produce no tailpipe emissions, although there are “life cycle” emissions associated with the electricity production. \n",
      "All-electric vehicles typically have \n",
      "shorter driving ranges per charge than conventional vehicles have per tank of gasoline. Most new BEVs are designed to travel between 110 and over 300 miles on a fully charged battery, depending on the model. For context, 90% of all U.S. household trips cover less than 100 miles.\n",
      "1 An all-electric vehicle’s range \n",
      "varies according to driving conditions and driving habits. Extreme temperatures tend to reduce range because energy from the battery powers climate control systems in addition to powering the motor. Speeding, aggressive driving, and heavy loads can also reduce range. Regenerative Braking \n",
      "Regenerative braking allows EVs to \n",
      "capture energy normally lost during braking by using the electric motor as a generator and storing that captured energy in the battery. \n",
      "Plug-In Hybrid Electric Vehicles \n",
      "PHEVs use batteries to power an electric \n",
      "motor and use another fuel, such as gasoline, to power a conventional engine. The batteries are typically charged by plugging the PHEV into an electric power source, although they can also be charged by the conventional engine and through regenerative braking. \n",
      "PHEVs have an all-electric driving range \n",
      "of about 15 to 60+ miles, depending on the model. As long as the battery is \n",
      "EVs at a Glance \n",
      "EVs run on electricity alone. They are powered by one or more \n",
      "electric motors and a battery. The battery is charged by plugging \n",
      "the vehicle into an electric power source and through regenerative braking. \n",
      "PHEVs  can travel moderate distances on electricity alone. \n",
      "The battery can be charged by plugging into an electric power source, through regenerative braking, and by the engine. \n",
      "PHEVs don’t have to be plugged in before driving. They can also be fueled solely with conventional fuel. However, they will not achieve maximum fuel economy or take full advantage of their all-electric capabilities without plugging in. 1 Getting started with an EV is easy \n",
      "thanks to the charging “cordset” that comes with most vehicles. \n",
      "Photo by \n",
      "Erik Nelsen, NREL 64277. 2 fhwa.dot.gov/environment/alternative_fuel_corridors \n",
      " \n",
      "  \n",
      " \n",
      " \n",
      "  charged, a PHEV can draw most of its \n",
      "power from electricity for typical daily driving. The engine will then power on when the battery is mostly depleted, during rapid acceleration, at high speeds, or when intensive heating or air conditioning is required. \n",
      "When running on battery power alone, \n",
      "PHEVs produce no tailpipe emissions. Even when the conventional engine is running, PHEVs typically consume less gasoline and produce fewer emissions than similar conventional vehicles. \n",
      "What EV Models Are \n",
      "Available? \n",
      "Nearly all major vehicle manufacturers \n",
      "have EV models available, and some have committed to transitioning to selling only EVs by 2030. \n",
      "Medium- and heavy-duty options are \n",
      "also available for fleet applications. See Considering an EV for fleet-specific considerations. \n",
      "For up-to-date information on available \n",
      "models, use the Alternative Fuels Data Center (AFDC) Vehicle Search tool (afdc. energy.gov/tools) or the Find a Car tool on FuelEconomy.gov (fueleconomy.gov/ feg/findacar.shtml). \n",
      "More heavy-duty vehicle manufacturers \n",
      "are now offering plug-in models for feets.\n",
      " Photo by Dennis Schroeder, NREL \n",
      "46574. \n",
      "How Do These Vehicles \n",
      "“Fuel Up”? \n",
      "Charging equipment provides electricity \n",
      "to charge EV batteries. The charging unit communicates with the vehicle to ensure that it supplies an appropriate and safe flow of electricity. \n",
      "There are more than 140,000 publicly \n",
      "available charging outlets—and counting—across the country. Most currently available light-duty BEVs have ranges between 110 and over 300 miles. Technological advances such as larger batteries and growing access to charging are increasingly addressing “range anxiety,” or the fear of running out of charge. Learn more about trends in EV charging infrastructure ( afdc.energy.gov/ \n",
      "fuels/electricity_infrastructure_trends. html). \n",
      "It may take as little as 30 minutes to fully charge an EV’s battery, but charging times vary based on the type or level of charging; the type of battery, its capacity, and how depleted it is; and the capacity of the vehicle’s internal charger (see Charging Options table). \n",
      "Charging units can be installed in \n",
      "residential, fleet, workplace, and public settings. Most EVs come with a 110-volt “Level 1” cordset that can be plugged into a typical electrical outlet. For quicker charging, homeowners can install a 240-V “Level 2” unit on a dedicated electrical circuit. This can often be done with little or no required electrical upgrades, as most homes have 240-V service for appliances like dryers and electric ranges. A Level 2 unit can be portable or “hard wired” into a building and can be purchased for as little as $200. For more information on installing charging equipment, see Charging Infrastructure Procurement and Installation on the AFDC (afdc.energy. gov/fuels/electricity_infrastructure_ development.html ). \n",
      "To make long-distance travel more accessible, the Federal Highway Administration is establishing a network of alternative fueling and charging infrastructure along highway corridors. Designated EV corridors\n",
      "2 supported \n",
      "by DC fast charging stations are under development nationwide. To find public stations, use the Alternative Fueling Station Locator ( afdc.energy.gov/ \n",
      "stations), which is available as an iPhone and Android app. \n",
      "Equipment Types and Costs \n",
      "Charging units are classified according to the rate at which they charge batteries. Two types—Level 1 and Level 2— provide AC power to the vehicle, with the \n",
      "Charging Made Simple \n",
      "Most EV owners charge at home or \n",
      "at work because charging is more convenient and cost-effective than using public stations. But public equipment is also easy to use. Depending on the station, drivers might use a network card, credit card, phone, cash, or even just enter an account number. There are also free chargers where users can just plug in. \n",
      "An added beneft of going electric is \n",
      "that electricity prices are less volatile than gasoline and diesel prices, so drivers can more easily forecast their fueling expenses. See a comparison of all fuel prices over time on the AFDC Fuel Prices page (afdc.energy.gov/fuels/prices.html ). \n",
      "2 All Electric \n",
      "Plug-in Hybrid \n",
      "Hybrid \n",
      "Gasoline National Average Annual Emissions per Vehicle \n",
      "Light-duty vehicles excluding fuel cell electric 0 3k 6k 9k 12k 15k \n",
      "Pounds of CO2 Equivalent \n",
      "Based on assumptions updated in 2020 Electric emissions \n",
      "Gasoline emissions \n",
      " \n",
      "  \n",
      " \n",
      " \n",
      " \n",
      " \n",
      " Charging Options \n",
      "Typical Charging Time Cost for Equipment, Installation, \n",
      "and Site Costs* \n",
      "Level 1 2–5 miles of range per hour \n",
      "of charging $0 to $1,800 \n",
      "Level 2** 10–30 miles of range per hour of charging $800 to $33,000 \n",
      "DC Fast \n",
      "Charging** 100–200+ miles of range in 30 minutes $30,000 to over $120,000 \n",
      "*Costs do not include the price of operation (network charges, electricity, utility \n",
      "demand charges). Factors affecting the price include equipment (charging equipment, electrical supplies), electrical installation (upgrading or adding electrical service, upgrading the electrical panel, conduit, and trenching), site improvements (adding pavement), activating a network, payment collection, labor, permitting, and taxes. \n",
      "**Charging unit cost (Level 2 and DCFC) is proportional to the unit’s power rating. The \n",
      "higher its rating, the higher the cost. A Level 2 unit can range from 6.6 to 19.2 kW output. A DCFC unit can range from 25 to 350 kW. Charging varies by charging unit power, vehicle, and battery state of charge. \n",
      "vehicle’s onboard equipment converting \n",
      "AC to DC to charge the batteries. The other type—DC fast charging (DCFC)— provides DC power directly. \n",
      "Wireless or “inductive” charging \n",
      "equipment uses an electromagnetic field to transfer electricity to an EV without a cord. Today, this technology is used primarily at higher power levels in heavy-duty applications like transit buses. \n",
      "Some states and utilities offer financial \n",
      "incentives for charging stations; see the AFDC Laws & Incentives page for more information ( afdc.energy.gov/laws). How Much Do the \n",
      "Vehicles Cost? \n",
      "EVs are generally more expensive than \n",
      "their conventional counterparts. However, lower fueling and maintenance costs can make them a competitive option. For example, electric drivetrains are more efficient, making BEVs (and PHEVs operating in electric mode) more than three times as efficient. Electricity is also less expensive than gasoline or diesel on an energy-equivalent basis. BEV drivers can save as much as $14,500 in fuel costs alone over 15 years (see table: Benefits \n",
      "of Electric-Drive Vehicles). Federal and state tax credits and private and utility rebates may also be available to help offset the cost of EVs. For information on available vehicle incentives, see the AFDC Laws & Incentives page ( afdc.energy.gov/laws). \n",
      "To find fuel economy ratings and fuel/ vehicle cost comparisons among currently available models, visit FuelEconomy.gov . \n",
      "How Do Their Emissions \n",
      "Compare With Those of Conventional Vehicles? \n",
      "EVs typically produce fewer emissions \n",
      "than conventional vehicles. All-electric vehicles produce zero tailpipe emissions, and PHEVs produce no tailpipe emissions when in electric-only mode. \n",
      "Life cycle emissions are generated when \n",
      "fuel or electricity is produced, as well as during the manufacturing of the vehicle itself. The life cycle emissions of an EV largely depend on how the electricity is generated (and how much a PHEV’s engine is being used), and this varies by region. Generally, all-electric vehicles and PHEVs produce one-third to half the emissions of conventional vehicles, respectively, considering both air pollutants and greenhouse gases. Regions with high use of renewable energy will see stronger emissions benefits. See a comparison of emissions by state using the AFDC emissions tool at afdc.energy. gov/ev-emissions.html . \n",
      "What About Safety and \n",
      "Maintenance? \n",
      "All EVs undergo the same rigorous \n",
      "safety testing as conventional vehicles sold in the United States and must meet Federal Motor Vehicle Safety Standards (including those for batteries). For additional safety information, refer to the AFDC’s Maintenance and Safety of Hybrid and Plug-In Electric Vehicles page (afdc.energy.gov/vehicles/electric_ maintenance.html ). \n",
      "Because PHEVs have conventional engines, their maintenance requirements are similar to conventional vehicles. \n",
      "3 PHEVs Beneÿts of \n",
      "Electric-Drive \n",
      "Vehicles compared \n",
      "to conventional vehicles \n",
      "Fuel Economy All-electric vehicles \n",
      "Most achieve combined fuel \n",
      "economy ratings higher than \n",
      "90 mpge .* \n",
      "Emissions \n",
      "Reductions Produce no tailpipe emissions \n",
      "when in electric-only mode. \n",
      "Generally, they produce less than \n",
      "half the emissions . Produce no tailpipe \n",
      "emissions . \n",
      "Generally, they produce one-third \n",
      "the emissions . \n",
      "Fuel Cost \n",
      "Savings** In electric-only mode, PHEV electricity costs range about \n",
      "3¢–10¢ per mile . \n",
      "On gasoline only, fuel costs are \n",
      "about 4¢–36¢ per mile . All-electric vehicles run on \n",
      "electricity only. Electricity costs are \n",
      "2¢–6¢ per mile . \n",
      "Fueling Flexibility Can fuel at gas stations . \n",
      "Can charge at: \n",
      "• home • public charging stations • some workplaces Can charge at: \n",
      "• home • public charging stations • some workplaces Most achieve fuel economy ratings \n",
      "higher than 100 mpge .* \n",
      "Electricity is produced from varied, domestic sources: \n",
      " \n",
      " \n",
      " \n",
      "   \n",
      " \n",
      " \n",
      "  \n",
      " \n",
      " Sources: AFDC (afdc.energy.gov), FuelEconomy.gov \n",
      "* EVs are rated not in miles per gallon (mpg) but miles per gallon of gasoline \n",
      "equivalent (mpge). Similar to mpg, mpge represents the number of miles the vehicle can travel using a quantity of fuel (or electricity) with the same energy content as a gallon of gasoline. \n",
      "**Compare to 10¢–15¢ per mile for conventional gasoline- or diesel-powered sedans. \n",
      "For all EVs, the electrical system (battery, \n",
      "motor, and associated electronics) requires minimal scheduled maintenance. A manufacturer’s warranty of a battery typically covers 8 years or 100,000 miles, and the expected battery lifetime is 12 to 15 years under normal operating conditions and in moderate climates. Check with your manufacturer about vehicle and battery warranties. Brake systems on these vehicles typically last longer than conventional vehicles because regenerative braking reduces brake wear. \n",
      "All-electric vehicles lack conventional \n",
      "engines and have far fewer moving parts and fewer fluids to change, so they typically require less maintenance than conventional vehicles or even PHEVs. Considering an EV \n",
      "Fleet managers should consider: \n",
      "• Arranging for basic technician and \n",
      "driver training \n",
      "• Conducting site planning for charging units, including setbacks, electrical service locations, potential service upgrade needs, and future upgrades \n",
      "• Determining when and how the vehicles will charge (including working with utilities to understand time-of-use and demand charges), as well as managed charging \n",
      "• Exploring private or utility incentives for equipment installation or power use • Evaluating equipment vendors and considering needs/options such as smart charging, cloud communications, vendor payment, and equipment owner -\n",
      "ship and maintenance \n",
      "• Timing the purchase and installation of charging units with the delivery of vehicles (this can be especially slow/complicated for municipal organizations). \n",
      "For medium- and heavy-duty vehicles, there are additional considerations: \n",
      "• Examining auxiliary loads (e.g., \n",
      "heating/cooling, lights, power take-off/ hydraulics use), and optional auxiliary power units or heating, ventilating, and air-conditioning (HV AC) units powered by diesel or another fuel \n",
      "• Determining the impacts of increased electricity consumption, especially when several vehicles need to be charged simultaneously at high charging rates \n",
      "• Understanding original equipment manufacturer vehicle maintenance and support if issues arise. \n",
      "Find additional information on EVs on the AFDC at afdc.energy.gov/vehicles/ \n",
      "electric.html . \n",
      "For more information, visit: \n",
      "afdc.energy.gov \n",
      "DOE/GO-102023-6050 • August 2023 \n",
      "4 \n",
      "------------\n",
      "\n",
      "Create questions that will prepare the engineer for their tests.\n",
      "Make sure not to lose any important information.\n",
      "Provide me only questions as list\n",
      "\n",
      "QUESTIONS:\n",
      "\u001b[0m\n",
      "\n",
      "\u001b[1m> Finished chain.\u001b[0m\n",
      "\n",
      "\u001b[1m> Finished chain.\u001b[0m\n",
      "1. Define electric vehicles and explain how they utilize electricity.\n",
      "2. Describe the different types of electric vehicles, including all-electric vehicles, plug-in hybrid electric vehicles, hybrid electric vehicles, and fuel cell electric vehicles.\n",
      "3. Discuss the advantages and disadvantages of all-electric vehicles, including their driving range and charging capabilities.\n",
      "4. Explain the concept of regenerative braking and how it contributes to the efficiency of electric vehicles.\n",
      "5. Describe the operation of plug-in hybrid electric vehicles, highlighting their use of both electric and conventional engines.\n",
      "6. Explain how electric vehicles are charged and discuss the different types of charging equipment available.\n",
      "7. Describe the charging infrastructure for electric vehicles, including the availability of public charging stations and the efforts to expand it.\n",
      "8. Discuss the cost considerations associated with electric vehicles, including their purchase price, fuel costs, and maintenance expenses.\n",
      "9. Explain how the emissions of electric vehicles compare to those of conventional vehicles, considering both tailpipe emissions and life cycle emissions.\n",
      "10. Discuss the safety and maintenance aspects of electric vehicles, including the rigorous testing they undergo and the minimal scheduled maintenance they require.\n",
      "11. Identify the key considerations for fleet managers when considering the adoption of electric vehicles.\n",
      "12. Explain the importance of auxiliary loads and auxiliary power units in medium- and heavy-duty electric vehicles.\n",
      "13. Describe the potential impacts of increased electricity consumption when charging multiple electric vehicles simultaneously.\n",
      "14. Discuss the availability of financial incentives for electric vehicles, including federal and state tax credits and private and utility rebates.\n",
      "15. Explain the significance of the Alternative Fuels Data Center (AFDC) and its role in providing information on electric vehicles.\n"
     ]
    }
   ],
   "source": [
    "ques = ques_gen_chain.run(document_ques_gen)\n",
    "\n",
    "print(ques)"
   ]
  },
  {
   "cell_type": "code",
   "execution_count": 127,
   "metadata": {},
   "outputs": [],
   "source": [
    "embeddings = GoogleGenerativeAIEmbeddings(model=\"models/text-embedding-004\", task_type=\"retrieval_document\")"
   ]
  },
  {
   "cell_type": "code",
   "execution_count": 128,
   "metadata": {},
   "outputs": [],
   "source": [
    "from langchain.vectorstores import FAISS"
   ]
  },
  {
   "cell_type": "code",
   "execution_count": 129,
   "metadata": {},
   "outputs": [],
   "source": [
    "vector_store = FAISS.from_documents(document_answer_gen, embeddings)"
   ]
  },
  {
   "cell_type": "code",
   "execution_count": 130,
   "metadata": {},
   "outputs": [],
   "source": [
    "llm_answer_gen = ChatGoogleGenerativeAI(model=\"gemini-pro\", convert_system_message_to_human=True)"
   ]
  },
  {
   "cell_type": "code",
   "execution_count": 131,
   "metadata": {},
   "outputs": [
    {
     "data": {
      "text/plain": [
       "'1. Define electric vehicles and explain how they utilize electricity.\\n2. Describe the different types of electric vehicles, including all-electric vehicles, plug-in hybrid electric vehicles, hybrid electric vehicles, and fuel cell electric vehicles.\\n3. Discuss the advantages and disadvantages of all-electric vehicles, including their driving range and charging capabilities.\\n4. Explain the concept of regenerative braking and how it contributes to the efficiency of electric vehicles.\\n5. Describe the operation of plug-in hybrid electric vehicles, highlighting their use of both electric and conventional engines.\\n6. Explain how electric vehicles are charged and discuss the different types of charging equipment available.\\n7. Describe the charging infrastructure for electric vehicles, including the availability of public charging stations and the efforts to expand it.\\n8. Discuss the cost considerations associated with electric vehicles, including their purchase price, fuel costs, and maintenance expenses.\\n9. Explain how the emissions of electric vehicles compare to those of conventional vehicles, considering both tailpipe emissions and life cycle emissions.\\n10. Discuss the safety and maintenance aspects of electric vehicles, including the rigorous testing they undergo and the minimal scheduled maintenance they require.\\n11. Identify the key considerations for fleet managers when considering the adoption of electric vehicles.\\n12. Explain the importance of auxiliary loads and auxiliary power units in medium- and heavy-duty electric vehicles.\\n13. Describe the potential impacts of increased electricity consumption when charging multiple electric vehicles simultaneously.\\n14. Discuss the availability of financial incentives for electric vehicles, including federal and state tax credits and private and utility rebates.\\n15. Explain the significance of the Alternative Fuels Data Center (AFDC) and its role in providing information on electric vehicles.'"
      ]
     },
     "execution_count": 131,
     "metadata": {},
     "output_type": "execute_result"
    }
   ],
   "source": [
    "ques"
   ]
  },
  {
   "cell_type": "code",
   "execution_count": 132,
   "metadata": {},
   "outputs": [],
   "source": [
    "ques_list = ques.split(\"\\n\")"
   ]
  },
  {
   "cell_type": "code",
   "execution_count": 134,
   "metadata": {},
   "outputs": [
    {
     "data": {
      "text/plain": [
       "['1. Define electric vehicles and explain how they utilize electricity.',\n",
       " '2. Describe the different types of electric vehicles, including all-electric vehicles, plug-in hybrid electric vehicles, hybrid electric vehicles, and fuel cell electric vehicles.',\n",
       " '3. Discuss the advantages and disadvantages of all-electric vehicles, including their driving range and charging capabilities.',\n",
       " '4. Explain the concept of regenerative braking and how it contributes to the efficiency of electric vehicles.',\n",
       " '5. Describe the operation of plug-in hybrid electric vehicles, highlighting their use of both electric and conventional engines.',\n",
       " '6. Explain how electric vehicles are charged and discuss the different types of charging equipment available.',\n",
       " '7. Describe the charging infrastructure for electric vehicles, including the availability of public charging stations and the efforts to expand it.',\n",
       " '8. Discuss the cost considerations associated with electric vehicles, including their purchase price, fuel costs, and maintenance expenses.',\n",
       " '9. Explain how the emissions of electric vehicles compare to those of conventional vehicles, considering both tailpipe emissions and life cycle emissions.',\n",
       " '10. Discuss the safety and maintenance aspects of electric vehicles, including the rigorous testing they undergo and the minimal scheduled maintenance they require.',\n",
       " '11. Identify the key considerations for fleet managers when considering the adoption of electric vehicles.',\n",
       " '12. Explain the importance of auxiliary loads and auxiliary power units in medium- and heavy-duty electric vehicles.',\n",
       " '13. Describe the potential impacts of increased electricity consumption when charging multiple electric vehicles simultaneously.',\n",
       " '14. Discuss the availability of financial incentives for electric vehicles, including federal and state tax credits and private and utility rebates.',\n",
       " '15. Explain the significance of the Alternative Fuels Data Center (AFDC) and its role in providing information on electric vehicles.']"
      ]
     },
     "execution_count": 134,
     "metadata": {},
     "output_type": "execute_result"
    }
   ],
   "source": [
    "\n",
    "ques_list"
   ]
  },
  {
   "cell_type": "code",
   "execution_count": 135,
   "metadata": {},
   "outputs": [],
   "source": [
    "from langchain.chains import RetrievalQA"
   ]
  },
  {
   "cell_type": "code",
   "execution_count": 136,
   "metadata": {},
   "outputs": [],
   "source": [
    "answer_generation_chain = RetrievalQA.from_chain_type(llm=llm_answer_gen, \n",
    "                                               chain_type=\"stuff\", \n",
    "                                               retriever=vector_store.as_retriever())"
   ]
  },
  {
   "cell_type": "code",
   "execution_count": 137,
   "metadata": {},
   "outputs": [],
   "source": [
    "import time"
   ]
  },
  {
   "cell_type": "code",
   "execution_count": 140,
   "metadata": {},
   "outputs": [
    {
     "name": "stdout",
     "output_type": "stream",
     "text": [
      "Question:  1. Define electric vehicles and explain how they utilize electricity.\n"
     ]
    },
    {
     "name": "stderr",
     "output_type": "stream",
     "text": [
      "e:\\Users\\prath\\anaconda3\\envs\\interview\\lib\\site-packages\\langchain_google_genai\\chat_models.py:388: UserWarning: Convert_system_message_to_human will be deprecated!\n",
      "  warnings.warn(\"Convert_system_message_to_human will be deprecated!\")\n"
     ]
    },
    {
     "name": "stdout",
     "output_type": "stream",
     "text": [
      "Answer:  Electric vehicles (EVs) are vehicles that use electricity as their primary fuel or to improve the efficiency of conventional vehicle designs. EVs include all-electric vehicles, also referred to as battery electric vehicles (BEVs), and plug-in hybrid electric vehicles (PHEVs). EVs use electricity to power their motors, which drive the wheels. The electricity is stored in batteries, which can be charged by plugging the vehicle into an electric power source or through regenerative braking.\n",
      "--------------------------------------------------\\n\\n\n",
      "Question:  2. Describe the different types of electric vehicles, including all-electric vehicles, plug-in hybrid electric vehicles, hybrid electric vehicles, and fuel cell electric vehicles.\n"
     ]
    },
    {
     "name": "stderr",
     "output_type": "stream",
     "text": [
      "e:\\Users\\prath\\anaconda3\\envs\\interview\\lib\\site-packages\\langchain_google_genai\\chat_models.py:388: UserWarning: Convert_system_message_to_human will be deprecated!\n",
      "  warnings.warn(\"Convert_system_message_to_human will be deprecated!\")\n"
     ]
    },
    {
     "name": "stdout",
     "output_type": "stream",
     "text": [
      "Answer:  This document only describes all-electric vehicles and plug-in hybrid electric vehicles. It does not describe hybrid electric vehicles or fuel cell electric vehicles.\n",
      "--------------------------------------------------\\n\\n\n",
      "Question:  3. Discuss the advantages and disadvantages of all-electric vehicles, including their driving range and charging capabilities.\n"
     ]
    },
    {
     "name": "stderr",
     "output_type": "stream",
     "text": [
      "e:\\Users\\prath\\anaconda3\\envs\\interview\\lib\\site-packages\\langchain_google_genai\\chat_models.py:388: UserWarning: Convert_system_message_to_human will be deprecated!\n",
      "  warnings.warn(\"Convert_system_message_to_human will be deprecated!\")\n"
     ]
    },
    {
     "name": "stdout",
     "output_type": "stream",
     "text": [
      "Answer:  I'm sorry, I cannot find the answer to your question in this document.\n",
      "--------------------------------------------------\\n\\n\n",
      "Question:  4. Explain the concept of regenerative braking and how it contributes to the efficiency of electric vehicles.\n"
     ]
    },
    {
     "name": "stderr",
     "output_type": "stream",
     "text": [
      "e:\\Users\\prath\\anaconda3\\envs\\interview\\lib\\site-packages\\langchain_google_genai\\chat_models.py:388: UserWarning: Convert_system_message_to_human will be deprecated!\n",
      "  warnings.warn(\"Convert_system_message_to_human will be deprecated!\")\n"
     ]
    },
    {
     "name": "stdout",
     "output_type": "stream",
     "text": [
      "Answer:  Regenerative braking allows EVs to capture energy normally lost during braking by using the electric motor as a generator and storing that captured energy in the battery. This contributes to the efficiency of electric vehicles because it reduces the amount of energy that is lost during braking, and it allows the vehicle to use that energy to power the motor.\n",
      "--------------------------------------------------\\n\\n\n",
      "Question:  5. Describe the operation of plug-in hybrid electric vehicles, highlighting their use of both electric and conventional engines.\n"
     ]
    },
    {
     "name": "stderr",
     "output_type": "stream",
     "text": [
      "e:\\Users\\prath\\anaconda3\\envs\\interview\\lib\\site-packages\\langchain_google_genai\\chat_models.py:388: UserWarning: Convert_system_message_to_human will be deprecated!\n",
      "  warnings.warn(\"Convert_system_message_to_human will be deprecated!\")\n"
     ]
    },
    {
     "name": "stdout",
     "output_type": "stream",
     "text": [
      "Answer:  I cannot find the answer to your question in this document.\n",
      "--------------------------------------------------\\n\\n\n",
      "Question:  6. Explain how electric vehicles are charged and discuss the different types of charging equipment available.\n"
     ]
    },
    {
     "name": "stderr",
     "output_type": "stream",
     "text": [
      "e:\\Users\\prath\\anaconda3\\envs\\interview\\lib\\site-packages\\langchain_google_genai\\chat_models.py:388: UserWarning: Convert_system_message_to_human will be deprecated!\n",
      "  warnings.warn(\"Convert_system_message_to_human will be deprecated!\")\n"
     ]
    },
    {
     "name": "stdout",
     "output_type": "stream",
     "text": [
      "Answer:  Electric vehicles are charged by plugging them into an electric power source. There are three main types of charging equipment:\n",
      "\n",
      "* Level 1 chargers are the slowest and most basic type of charger. They use a standard 120-volt outlet and can charge an EV in 8-12 hours.\n",
      "* Level 2 chargers are faster than Level 1 chargers and use a 240-volt outlet. They can charge an EV in 4-8 hours.\n",
      "* DC fast chargers are the fastest type of charger and use a high-voltage DC current. They can charge an EV in 30 minutes to an hour.\n",
      "\n",
      "The type of charger you need will depend on the make and model of your EV, as well as the availability of charging stations in your area.\n",
      "--------------------------------------------------\\n\\n\n",
      "Question:  7. Describe the charging infrastructure for electric vehicles, including the availability of public charging stations and the efforts to expand it.\n"
     ]
    },
    {
     "name": "stderr",
     "output_type": "stream",
     "text": [
      "e:\\Users\\prath\\anaconda3\\envs\\interview\\lib\\site-packages\\langchain_google_genai\\chat_models.py:388: UserWarning: Convert_system_message_to_human will be deprecated!\n",
      "  warnings.warn(\"Convert_system_message_to_human will be deprecated!\")\n"
     ]
    },
    {
     "name": "stdout",
     "output_type": "stream",
     "text": [
      "Answer:  I'm sorry, but the text does not describe the charging infrastructure for electric vehicles, including the availability of public charging stations and the efforts to expand it.\n",
      "--------------------------------------------------\\n\\n\n",
      "Question:  8. Discuss the cost considerations associated with electric vehicles, including their purchase price, fuel costs, and maintenance expenses.\n"
     ]
    },
    {
     "name": "stderr",
     "output_type": "stream",
     "text": [
      "e:\\Users\\prath\\anaconda3\\envs\\interview\\lib\\site-packages\\langchain_google_genai\\chat_models.py:388: UserWarning: Convert_system_message_to_human will be deprecated!\n",
      "  warnings.warn(\"Convert_system_message_to_human will be deprecated!\")\n"
     ]
    },
    {
     "name": "stdout",
     "output_type": "stream",
     "text": [
      "Answer:  Electric vehicles generally have a higher purchase price than conventional vehicles. However, lower fueling and maintenance costs can make them a competitive option. For example, electric drivetrains are more efficient, making BEVs (and PHEVs operating in electric mode) more than three times as efficient. Electricity is also less expensive than gasoline or diesel on an energy-equivalent basis. BEV drivers can save as much as $14,500 in fuel costs alone over 15 years. Federal and state tax credits and private and utility rebates may also be available to help offset the cost of EVs.\n",
      "--------------------------------------------------\\n\\n\n",
      "Question:  9. Explain how the emissions of electric vehicles compare to those of conventional vehicles, considering both tailpipe emissions and life cycle emissions.\n"
     ]
    },
    {
     "name": "stderr",
     "output_type": "stream",
     "text": [
      "e:\\Users\\prath\\anaconda3\\envs\\interview\\lib\\site-packages\\langchain_google_genai\\chat_models.py:388: UserWarning: Convert_system_message_to_human will be deprecated!\n",
      "  warnings.warn(\"Convert_system_message_to_human will be deprecated!\")\n"
     ]
    },
    {
     "name": "stdout",
     "output_type": "stream",
     "text": [
      "Answer:  Electric vehicles typically produce fewer emissions than conventional vehicles. All-electric vehicles produce zero tailpipe emissions, and PHEVs produce no tailpipe emissions when in electric-only mode. Life cycle emissions are generated when fuel or electricity is produced, as well as during the manufacturing of the vehicle itself. The life cycle emissions of an EV largely depend on how the electricity is generated (and how much a PHEV's engine is being used), and this varies by region. Generally, all-electric vehicles and PHEVs produce one-third to half the emissions of conventional vehicles, respectively, considering both air pollutants and greenhouse gases. Regions with high use of renewable energy will see stronger emissions benefits.\n",
      "--------------------------------------------------\\n\\n\n",
      "Question:  10. Discuss the safety and maintenance aspects of electric vehicles, including the rigorous testing they undergo and the minimal scheduled maintenance they require.\n"
     ]
    },
    {
     "name": "stderr",
     "output_type": "stream",
     "text": [
      "e:\\Users\\prath\\anaconda3\\envs\\interview\\lib\\site-packages\\langchain_google_genai\\chat_models.py:388: UserWarning: Convert_system_message_to_human will be deprecated!\n",
      "  warnings.warn(\"Convert_system_message_to_human will be deprecated!\")\n"
     ]
    },
    {
     "name": "stdout",
     "output_type": "stream",
     "text": [
      "Answer:  All EVs undergo the same rigorous safety testing as conventional vehicles sold in the United States and must meet Federal Motor Vehicle Safety Standards (including those for batteries). For additional safety information, refer to the AFDC’s Maintenance and Safety of Hybrid and Plug-In Electric Vehicles page (afdc.energy.gov/vehicles/electric_ maintenance.html ).\n",
      "\n",
      "Because PHEVs have conventional engines, their maintenance requirements are similar to conventional vehicles. All-electric vehicles lack conventional engines and have far fewer moving parts and fewer fluids to change, so they typically require less maintenance than conventional vehicles or even PHEVs.\n",
      "--------------------------------------------------\\n\\n\n",
      "Question:  11. Identify the key considerations for fleet managers when considering the adoption of electric vehicles.\n"
     ]
    },
    {
     "name": "stderr",
     "output_type": "stream",
     "text": [
      "e:\\Users\\prath\\anaconda3\\envs\\interview\\lib\\site-packages\\langchain_google_genai\\chat_models.py:388: UserWarning: Convert_system_message_to_human will be deprecated!\n",
      "  warnings.warn(\"Convert_system_message_to_human will be deprecated!\")\n"
     ]
    },
    {
     "name": "stdout",
     "output_type": "stream",
     "text": [
      "Answer:  I'm sorry, but I cannot find the key considerations for fleet managers when considering the adoption of electric vehicles in the provided document.\n",
      "--------------------------------------------------\\n\\n\n",
      "Question:  12. Explain the importance of auxiliary loads and auxiliary power units in medium- and heavy-duty electric vehicles.\n"
     ]
    },
    {
     "name": "stderr",
     "output_type": "stream",
     "text": [
      "e:\\Users\\prath\\anaconda3\\envs\\interview\\lib\\site-packages\\langchain_google_genai\\chat_models.py:388: UserWarning: Convert_system_message_to_human will be deprecated!\n",
      "  warnings.warn(\"Convert_system_message_to_human will be deprecated!\")\n"
     ]
    },
    {
     "name": "stdout",
     "output_type": "stream",
     "text": [
      "Answer:  I cannot answer this question based on the provided text.\n",
      "--------------------------------------------------\\n\\n\n",
      "Question:  13. Describe the potential impacts of increased electricity consumption when charging multiple electric vehicles simultaneously.\n"
     ]
    },
    {
     "name": "stderr",
     "output_type": "stream",
     "text": [
      "e:\\Users\\prath\\anaconda3\\envs\\interview\\lib\\site-packages\\langchain_google_genai\\chat_models.py:388: UserWarning: Convert_system_message_to_human will be deprecated!\n",
      "  warnings.warn(\"Convert_system_message_to_human will be deprecated!\")\n"
     ]
    },
    {
     "name": "stdout",
     "output_type": "stream",
     "text": [
      "Answer:  I cannot answer this question. The provided context does not mention anything about the potential impacts of increased electricity consumption when charging multiple electric vehicles simultaneously.\n",
      "--------------------------------------------------\\n\\n\n",
      "Question:  14. Discuss the availability of financial incentives for electric vehicles, including federal and state tax credits and private and utility rebates.\n"
     ]
    },
    {
     "name": "stderr",
     "output_type": "stream",
     "text": [
      "e:\\Users\\prath\\anaconda3\\envs\\interview\\lib\\site-packages\\langchain_google_genai\\chat_models.py:388: UserWarning: Convert_system_message_to_human will be deprecated!\n",
      "  warnings.warn(\"Convert_system_message_to_human will be deprecated!\")\n"
     ]
    },
    {
     "name": "stdout",
     "output_type": "stream",
     "text": [
      "Answer:  All EVs are eligible for a federal tax credit of up to $7,500. Some states and utilities also offer financial incentives for charging stations. For more information, see the AFDC Laws & Incentives page for more information ( afdc.energy.gov/laws).\n",
      "--------------------------------------------------\\n\\n\n",
      "Question:  15. Explain the significance of the Alternative Fuels Data Center (AFDC) and its role in providing information on electric vehicles.\n"
     ]
    },
    {
     "name": "stderr",
     "output_type": "stream",
     "text": [
      "e:\\Users\\prath\\anaconda3\\envs\\interview\\lib\\site-packages\\langchain_google_genai\\chat_models.py:388: UserWarning: Convert_system_message_to_human will be deprecated!\n",
      "  warnings.warn(\"Convert_system_message_to_human will be deprecated!\")\n"
     ]
    },
    {
     "name": "stdout",
     "output_type": "stream",
     "text": [
      "Answer:  I cannot find the answer to your question in the context you provided, as it does not mention the significance of the Alternative Fuels Data Center (AFDC) or its role in providing information on electric vehicles.\n",
      "--------------------------------------------------\\n\\n\n"
     ]
    }
   ],
   "source": [
    "# Answer each question and save to a file\n",
    "RATE_LIMIT = 10\n",
    "try:\n",
    "    for question in ques_list:\n",
    "        print(\"Question: \", question)\n",
    "        answer = answer_generation_chain.run(question)\n",
    "        print(\"Answer: \", answer)\n",
    "        print(\"--------------------------------------------------\\\\n\\\\n\")\n",
    "        # Save answer to file\n",
    "        with open(\"answers.txt\", \"a\") as f:\n",
    "            f.write(\"Question: \" + question + \"\\\\n\")\n",
    "            f.write(\"Answer: \" + answer + \"\\\\n\")\n",
    "            f.write(\"--------------------------------------------------\\\\n\\\\n\")\n",
    "        time.sleep(RATE_LIMIT)\n",
    "except Exception as e:\n",
    "    print(f\"Error occurred: {e}. Retrying...\")"
   ]
  },
  {
   "cell_type": "code",
   "execution_count": null,
   "metadata": {},
   "outputs": [],
   "source": []
  }
 ],
 "metadata": {
  "kernelspec": {
   "display_name": "interview",
   "language": "python",
   "name": "python3"
  },
  "language_info": {
   "codemirror_mode": {
    "name": "ipython",
    "version": 3
   },
   "file_extension": ".py",
   "mimetype": "text/x-python",
   "name": "python",
   "nbconvert_exporter": "python",
   "pygments_lexer": "ipython3",
   "version": "3.10.14"
  }
 },
 "nbformat": 4,
 "nbformat_minor": 2
}
